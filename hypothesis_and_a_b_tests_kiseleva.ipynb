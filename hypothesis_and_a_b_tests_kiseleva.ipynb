{
 "cells": [
  {
   "cell_type": "markdown",
   "metadata": {
    "pycharm": {
     "name": "#%% md\n"
    },
    "slideshow": {
     "slide_type": "-"
    }
   },
   "source": [
    "# Data driven business decision making"
   ]
  },
  {
   "cell_type": "markdown",
   "metadata": {
    "pycharm": {
     "name": "#%% md\n"
    }
   },
   "source": [
    "## Description of the project\n",
    "### Description of data\n",
    "\n",
    "**Data for the first part**\n",
    "\n",
    "*File /datasets/hypothesis.csv.*\n",
    "* Hypothesis - a brief description of the hypothesis;\n",
    "* Reach - user coverage on a 10-point scale;\n",
    "* Impact - impact on users on a 10-point scale;\n",
    "* Confidence - confidence in the hypothesis on a 10-point scale;\n",
    "* Efforts - the cost of resources to test the hypothesis on a 10-point scale. The larger the Efforts value, the more expensive it is to test the hypothesis.\n",
    "\n",
    "**Data for the second part**\n",
    "\n",
    "*File /datasets/orders.csv.*\n",
    "* transactionId - order identifier;\n",
    "* visitorId - ID of the user who made the order;\n",
    "* date - the date when the order was made;\n",
    "* revenue — order revenue;\n",
    "* group — the A/B test group that the order belongs to.\n",
    "\n",
    "*File /datasets/visitors.csv.*\n",
    "* date — date;\n",
    "* group — A/B test group;\n",
    "* visitors — number of users on the specified date in the specified A/B test group\n",
    "\n",
    "#### Context\n",
    "***We are analysts of a large online store. Together with the marketing department, you have prepared a list of hypotheses for increasing revenue.***"
   ]
  },
  {
   "cell_type": "markdown",
   "metadata": {
    "pycharm": {
     "name": "#%% md\n"
    }
   },
   "source": [
    "<a name=\"1common.\"></a>\n",
    "## <a name=\"0.0\"></a>Content:\n",
    "* [Loading libraries and self-written functions](#0.)\n",
    "* [Loading data](#01.)\n",
    "* [Hypothesis Prioritization](#1.)\n",
    "* [A/B Test Analysis](#2.)\n",
    "* [Decision based on test results](#3.)"
   ]
  },
  {
   "cell_type": "markdown",
   "metadata": {
    "pycharm": {
     "name": "#%% md\n"
    }
   },
   "source": [
    "## Loading libraries and self-written functions\n",
    "<a name=\"0.\"></a>\n",
    "[<font size=\"2\">(to content)</font>](#1common.)"
   ]
  },
  {
   "cell_type": "code",
   "execution_count": 52,
   "metadata": {
    "pycharm": {
     "is_executing": true,
     "name": "#%%\n"
    }
   },
   "outputs": [
    {
     "name": "stdout",
     "output_type": "stream",
     "text": [
      "Requirement already up-to-date: seaborn in /Users/lesia/opt/anaconda3/lib/python3.7/site-packages (0.11.2)\n",
      "Requirement already satisfied, skipping upgrade: matplotlib>=2.2 in /Users/lesia/opt/anaconda3/lib/python3.7/site-packages (from seaborn) (3.1.3)\n",
      "Requirement already satisfied, skipping upgrade: numpy>=1.15 in /Users/lesia/opt/anaconda3/lib/python3.7/site-packages (from seaborn) (1.21.5)\n",
      "Requirement already satisfied, skipping upgrade: scipy>=1.0 in /Users/lesia/opt/anaconda3/lib/python3.7/site-packages (from seaborn) (1.4.1)\n",
      "Requirement already satisfied, skipping upgrade: pandas>=0.23 in /Users/lesia/opt/anaconda3/lib/python3.7/site-packages (from seaborn) (1.3.0)\n",
      "Requirement already satisfied, skipping upgrade: pyparsing!=2.0.4,!=2.1.2,!=2.1.6,>=2.0.1 in /Users/lesia/opt/anaconda3/lib/python3.7/site-packages (from matplotlib>=2.2->seaborn) (2.4.6)\n",
      "Requirement already satisfied, skipping upgrade: cycler>=0.10 in /Users/lesia/opt/anaconda3/lib/python3.7/site-packages (from matplotlib>=2.2->seaborn) (0.10.0)\n",
      "Requirement already satisfied, skipping upgrade: python-dateutil>=2.1 in /Users/lesia/opt/anaconda3/lib/python3.7/site-packages (from matplotlib>=2.2->seaborn) (2.8.1)\n",
      "Requirement already satisfied, skipping upgrade: kiwisolver>=1.0.1 in /Users/lesia/opt/anaconda3/lib/python3.7/site-packages (from matplotlib>=2.2->seaborn) (1.1.0)\n",
      "Requirement already satisfied, skipping upgrade: pytz>=2017.3 in /Users/lesia/opt/anaconda3/lib/python3.7/site-packages (from pandas>=0.23->seaborn) (2019.3)\n",
      "Requirement already satisfied, skipping upgrade: six in /Users/lesia/opt/anaconda3/lib/python3.7/site-packages (from cycler>=0.10->matplotlib>=2.2->seaborn) (1.14.0)\n",
      "Requirement already satisfied, skipping upgrade: setuptools in /Users/lesia/opt/anaconda3/lib/python3.7/site-packages (from kiwisolver>=1.0.1->matplotlib>=2.2->seaborn) (46.0.0.post20200309)\n"
     ]
    }
   ],
   "source": [
    "# обновим до последней версии чтобы питон не ругался на графики\n",
    "!pip install seaborn --upgrade"
   ]
  },
  {
   "cell_type": "code",
   "execution_count": 53,
   "metadata": {
    "pycharm": {
     "name": "#%%\n"
    }
   },
   "outputs": [],
   "source": [
    "import numpy as np\n",
    "import pandas as pd\n",
    "import warnings\n",
    "import seaborn as sns\n",
    "import matplotlib.pyplot as plt\n",
    "import seaborn as sns\n",
    "from termcolor import colored\n",
    "\n",
    "import scipy.stats as stats\n",
    "import datetime as dt"
   ]
  },
  {
   "cell_type": "code",
   "execution_count": 54,
   "metadata": {
    "pycharm": {
     "name": "#%%\n"
    },
    "scrolled": true
   },
   "outputs": [],
   "source": [
    "sns.set_theme(style=\"white\", context=\"talk\")"
   ]
  },
  {
   "cell_type": "code",
   "execution_count": 55,
   "metadata": {
    "pycharm": {
     "name": "#%%\n"
    }
   },
   "outputs": [],
   "source": [
    "pd.options.display.max_colwidth = 120"
   ]
  },
  {
   "cell_type": "code",
   "execution_count": 56,
   "metadata": {
    "pycharm": {
     "name": "#%%\n"
    }
   },
   "outputs": [],
   "source": [
    "#Define the bold\n",
    "def bold():\n",
    "    return \"\\033[1m\"\n",
    "\n",
    "def bold_end():\n",
    "    return \"\\033[0m\"\n",
    "\n",
    "#Set the format for numbers\n",
    "pd.options.display.float_format = '{:>10.2f}'.format"
   ]
  },
  {
   "cell_type": "code",
   "execution_count": 57,
   "metadata": {
    "pycharm": {
     "name": "#%%\n"
    }
   },
   "outputs": [],
   "source": [
    "#**Function print_basic_info, to display information about the array and its variables.**\n",
    "\n",
    "def print_basic_info(base, info, describe, duplicate, head_tail):\n",
    "    \n",
    "    '''\n",
    "    #* base - database name\n",
    "    #* info - 1: output information about the array, other: no output\n",
    "    #* describe - 1: output description of array variables, other: no output\n",
    "    #* duplicat - 1: print the number of full duplicates\n",
    "    #* head - n: base example output (output n - lines), n < 1: no output    \n",
    "    '''\n",
    "\n",
    "    \n",
    "    if info == 1:\n",
    "        print(\"\\n\", bold(), colored('info','green'), bold_end(), \"\\n\")\n",
    "        print(base.info())\n",
    "    if head_tail >= 1:\n",
    "        print(\"\\n\", bold(),colored('head_tail','green'),bold_end())\n",
    "        display(base.head(head_tail).append(base.tail(head_tail)))\n",
    "    if describe == 1:\n",
    "        print(\"\\n\", bold(),colored('describe','green'),bold_end(),\"\\n\")\n",
    "        for i in base.columns:\n",
    "            print(\"\\n\", bold(), colored(i,'blue'),bold_end(),\"\\n\", base[i].describe())\n",
    "    if duplicate == 1:\n",
    "        print(\"\\n\", bold(),colored('duplicated','green'),bold_end(),\"\\n\")\n",
    "        print(base[base.duplicated() == True][base.columns[0]].count())"
   ]
  },
  {
   "cell_type": "markdown",
   "metadata": {
    "pycharm": {
     "name": "#%% md\n"
    }
   },
   "source": [
    "## Загрузка данных\n",
    "<a name=\"01.\"></a>\n",
    "[<font size=\"2\">(к содержанию)</font>](#1common.)"
   ]
  },
  {
   "cell_type": "code",
   "execution_count": 58,
   "metadata": {
    "pycharm": {
     "name": "#%%\n"
    }
   },
   "outputs": [],
   "source": [
    "#load\n",
    "try:\n",
    "    hypothesis = pd.read_csv('/datasets/hypothesis.csv', sep=',',decimal='.')\n",
    "    orders = pd.read_csv('/datasets/orders.csv', sep=',',decimal='.')\n",
    "    visitors = pd.read_csv('/datasets/visitors.csv', sep=',',decimal='.')\n",
    "except:\n",
    "    hypothesis = pd.read_csv('datasets/hypothesis.csv', sep=',',decimal='.')\n",
    "    orders = pd.read_csv('datasets/orders.csv', sep=',',decimal='.')\n",
    "    visitors = pd.read_csv('datasets/visitors.csv', sep=',',decimal='.')\n"
   ]
  },
  {
   "cell_type": "code",
   "execution_count": 59,
   "metadata": {
    "pycharm": {
     "name": "#%%\n"
    }
   },
   "outputs": [
    {
     "name": "stdout",
     "output_type": "stream",
     "text": [
      "\n",
      " \u001b[1m \u001b[32minfo\u001b[0m \u001b[0m \n",
      "\n",
      "<class 'pandas.core.frame.DataFrame'>\n",
      "RangeIndex: 9 entries, 0 to 8\n",
      "Data columns (total 5 columns):\n",
      " #   Column      Non-Null Count  Dtype \n",
      "---  ------      --------------  ----- \n",
      " 0   Hypothesis  9 non-null      object\n",
      " 1   Reach       9 non-null      int64 \n",
      " 2   Impact      9 non-null      int64 \n",
      " 3   Confidence  9 non-null      int64 \n",
      " 4   Efforts     9 non-null      int64 \n",
      "dtypes: int64(4), object(1)\n",
      "memory usage: 488.0+ bytes\n",
      "None\n",
      "\n",
      " \u001b[1m \u001b[32mhead_tail\u001b[0m \u001b[0m\n"
     ]
    },
    {
     "data": {
      "text/html": [
       "<div>\n",
       "<style scoped>\n",
       "    .dataframe tbody tr th:only-of-type {\n",
       "        vertical-align: middle;\n",
       "    }\n",
       "\n",
       "    .dataframe tbody tr th {\n",
       "        vertical-align: top;\n",
       "    }\n",
       "\n",
       "    .dataframe thead th {\n",
       "        text-align: right;\n",
       "    }\n",
       "</style>\n",
       "<table border=\"1\" class=\"dataframe\">\n",
       "  <thead>\n",
       "    <tr style=\"text-align: right;\">\n",
       "      <th></th>\n",
       "      <th>Hypothesis</th>\n",
       "      <th>Reach</th>\n",
       "      <th>Impact</th>\n",
       "      <th>Confidence</th>\n",
       "      <th>Efforts</th>\n",
       "    </tr>\n",
       "  </thead>\n",
       "  <tbody>\n",
       "    <tr>\n",
       "      <th>0</th>\n",
       "      <td>Добавить два новых канала привлечения трафика, что позволит привлекать на 30% больше пользователей</td>\n",
       "      <td>3</td>\n",
       "      <td>10</td>\n",
       "      <td>8</td>\n",
       "      <td>6</td>\n",
       "    </tr>\n",
       "    <tr>\n",
       "      <th>1</th>\n",
       "      <td>Запустить собственную службу доставки, что сократит срок доставки заказов</td>\n",
       "      <td>2</td>\n",
       "      <td>5</td>\n",
       "      <td>4</td>\n",
       "      <td>10</td>\n",
       "    </tr>\n",
       "    <tr>\n",
       "      <th>2</th>\n",
       "      <td>Добавить блоки рекомендаций товаров на сайт интернет магазина, чтобы повысить конверсию и средний чек заказа</td>\n",
       "      <td>8</td>\n",
       "      <td>3</td>\n",
       "      <td>7</td>\n",
       "      <td>3</td>\n",
       "    </tr>\n",
       "    <tr>\n",
       "      <th>3</th>\n",
       "      <td>Изменить структура категорий, что увеличит конверсию, т.к. пользователи быстрее найдут нужный товар</td>\n",
       "      <td>8</td>\n",
       "      <td>3</td>\n",
       "      <td>3</td>\n",
       "      <td>8</td>\n",
       "    </tr>\n",
       "    <tr>\n",
       "      <th>5</th>\n",
       "      <td>Добавить страницу отзывов клиентов о магазине, что позволит увеличить количество заказов</td>\n",
       "      <td>3</td>\n",
       "      <td>2</td>\n",
       "      <td>2</td>\n",
       "      <td>3</td>\n",
       "    </tr>\n",
       "    <tr>\n",
       "      <th>6</th>\n",
       "      <td>Показать на главной странице баннеры с актуальными акциями и распродажами, чтобы увеличить конверсию</td>\n",
       "      <td>5</td>\n",
       "      <td>3</td>\n",
       "      <td>8</td>\n",
       "      <td>3</td>\n",
       "    </tr>\n",
       "    <tr>\n",
       "      <th>7</th>\n",
       "      <td>Добавить форму подписки на все основные страницы, чтобы собрать базу клиентов для email-рассылок</td>\n",
       "      <td>10</td>\n",
       "      <td>7</td>\n",
       "      <td>8</td>\n",
       "      <td>5</td>\n",
       "    </tr>\n",
       "    <tr>\n",
       "      <th>8</th>\n",
       "      <td>Запустить акцию, дающую скидку на товар в день рождения</td>\n",
       "      <td>1</td>\n",
       "      <td>9</td>\n",
       "      <td>9</td>\n",
       "      <td>5</td>\n",
       "    </tr>\n",
       "  </tbody>\n",
       "</table>\n",
       "</div>"
      ],
      "text/plain": [
       "                                                                                                     Hypothesis  \\\n",
       "0            Добавить два новых канала привлечения трафика, что позволит привлекать на 30% больше пользователей   \n",
       "1                                     Запустить собственную службу доставки, что сократит срок доставки заказов   \n",
       "2  Добавить блоки рекомендаций товаров на сайт интернет магазина, чтобы повысить конверсию и средний чек заказа   \n",
       "3           Изменить структура категорий, что увеличит конверсию, т.к. пользователи быстрее найдут нужный товар   \n",
       "5                      Добавить страницу отзывов клиентов о магазине, что позволит увеличить количество заказов   \n",
       "6          Показать на главной странице баннеры с актуальными акциями и распродажами, чтобы увеличить конверсию   \n",
       "7              Добавить форму подписки на все основные страницы, чтобы собрать базу клиентов для email-рассылок   \n",
       "8                                                       Запустить акцию, дающую скидку на товар в день рождения   \n",
       "\n",
       "   Reach  Impact  Confidence  Efforts  \n",
       "0      3      10           8        6  \n",
       "1      2       5           4       10  \n",
       "2      8       3           7        3  \n",
       "3      8       3           3        8  \n",
       "5      3       2           2        3  \n",
       "6      5       3           8        3  \n",
       "7     10       7           8        5  \n",
       "8      1       9           9        5  "
      ]
     },
     "metadata": {},
     "output_type": "display_data"
    }
   ],
   "source": [
    "print_basic_info(hypothesis,1,0,0,4)"
   ]
  },
  {
   "cell_type": "markdown",
   "metadata": {
    "pycharm": {
     "name": "#%% md\n"
    }
   },
   "source": [
    "* Totaly 9 hypotheses\n",
    "* There are no gaps in the filling and no duplicates."
   ]
  },
  {
   "cell_type": "code",
   "execution_count": 60,
   "metadata": {
    "pycharm": {
     "name": "#%%\n"
    }
   },
   "outputs": [
    {
     "name": "stdout",
     "output_type": "stream",
     "text": [
      "\n",
      " \u001b[1m \u001b[32minfo\u001b[0m \u001b[0m \n",
      "\n",
      "<class 'pandas.core.frame.DataFrame'>\n",
      "RangeIndex: 1197 entries, 0 to 1196\n",
      "Data columns (total 5 columns):\n",
      " #   Column         Non-Null Count  Dtype \n",
      "---  ------         --------------  ----- \n",
      " 0   transactionId  1197 non-null   int64 \n",
      " 1   visitorId      1197 non-null   int64 \n",
      " 2   date           1197 non-null   object\n",
      " 3   revenue        1197 non-null   int64 \n",
      " 4   group          1197 non-null   object\n",
      "dtypes: int64(3), object(2)\n",
      "memory usage: 46.9+ KB\n",
      "None\n",
      "\n",
      " \u001b[1m \u001b[32mhead_tail\u001b[0m \u001b[0m\n"
     ]
    },
    {
     "data": {
      "text/html": [
       "<div>\n",
       "<style scoped>\n",
       "    .dataframe tbody tr th:only-of-type {\n",
       "        vertical-align: middle;\n",
       "    }\n",
       "\n",
       "    .dataframe tbody tr th {\n",
       "        vertical-align: top;\n",
       "    }\n",
       "\n",
       "    .dataframe thead th {\n",
       "        text-align: right;\n",
       "    }\n",
       "</style>\n",
       "<table border=\"1\" class=\"dataframe\">\n",
       "  <thead>\n",
       "    <tr style=\"text-align: right;\">\n",
       "      <th></th>\n",
       "      <th>transactionId</th>\n",
       "      <th>visitorId</th>\n",
       "      <th>date</th>\n",
       "      <th>revenue</th>\n",
       "      <th>group</th>\n",
       "    </tr>\n",
       "  </thead>\n",
       "  <tbody>\n",
       "    <tr>\n",
       "      <th>0</th>\n",
       "      <td>3667963787</td>\n",
       "      <td>3312258926</td>\n",
       "      <td>2019-08-15</td>\n",
       "      <td>1650</td>\n",
       "      <td>B</td>\n",
       "    </tr>\n",
       "    <tr>\n",
       "      <th>1</th>\n",
       "      <td>2804400009</td>\n",
       "      <td>3642806036</td>\n",
       "      <td>2019-08-15</td>\n",
       "      <td>730</td>\n",
       "      <td>B</td>\n",
       "    </tr>\n",
       "    <tr>\n",
       "      <th>2</th>\n",
       "      <td>2961555356</td>\n",
       "      <td>4069496402</td>\n",
       "      <td>2019-08-15</td>\n",
       "      <td>400</td>\n",
       "      <td>A</td>\n",
       "    </tr>\n",
       "    <tr>\n",
       "      <th>3</th>\n",
       "      <td>3797467345</td>\n",
       "      <td>1196621759</td>\n",
       "      <td>2019-08-15</td>\n",
       "      <td>9759</td>\n",
       "      <td>B</td>\n",
       "    </tr>\n",
       "    <tr>\n",
       "      <th>1193</th>\n",
       "      <td>2203539145</td>\n",
       "      <td>370388673</td>\n",
       "      <td>2019-08-14</td>\n",
       "      <td>3190</td>\n",
       "      <td>A</td>\n",
       "    </tr>\n",
       "    <tr>\n",
       "      <th>1194</th>\n",
       "      <td>1807773912</td>\n",
       "      <td>573423106</td>\n",
       "      <td>2019-08-14</td>\n",
       "      <td>10550</td>\n",
       "      <td>A</td>\n",
       "    </tr>\n",
       "    <tr>\n",
       "      <th>1195</th>\n",
       "      <td>1947021204</td>\n",
       "      <td>1614305549</td>\n",
       "      <td>2019-08-14</td>\n",
       "      <td>100</td>\n",
       "      <td>A</td>\n",
       "    </tr>\n",
       "    <tr>\n",
       "      <th>1196</th>\n",
       "      <td>3936777065</td>\n",
       "      <td>2108080724</td>\n",
       "      <td>2019-08-15</td>\n",
       "      <td>202740</td>\n",
       "      <td>B</td>\n",
       "    </tr>\n",
       "  </tbody>\n",
       "</table>\n",
       "</div>"
      ],
      "text/plain": [
       "      transactionId   visitorId        date  revenue group\n",
       "0        3667963787  3312258926  2019-08-15     1650     B\n",
       "1        2804400009  3642806036  2019-08-15      730     B\n",
       "2        2961555356  4069496402  2019-08-15      400     A\n",
       "3        3797467345  1196621759  2019-08-15     9759     B\n",
       "1193     2203539145   370388673  2019-08-14     3190     A\n",
       "1194     1807773912   573423106  2019-08-14    10550     A\n",
       "1195     1947021204  1614305549  2019-08-14      100     A\n",
       "1196     3936777065  2108080724  2019-08-15   202740     B"
      ]
     },
     "metadata": {},
     "output_type": "display_data"
    },
    {
     "name": "stdout",
     "output_type": "stream",
     "text": [
      "\n",
      " \u001b[1m \u001b[32mdescribe\u001b[0m \u001b[0m \n",
      "\n",
      "\n",
      " \u001b[1m \u001b[34mtransactionId\u001b[0m \u001b[0m \n",
      " count         1197.00\n",
      "mean    2155621385.53\n",
      "std     1229084904.76\n",
      "min        1062393.00\n",
      "25%     1166775572.00\n",
      "50%     2145193898.00\n",
      "75%     3237740112.00\n",
      "max     4293855558.00\n",
      "Name: transactionId, dtype: float64\n",
      "\n",
      " \u001b[1m \u001b[34mvisitorId\u001b[0m \u001b[0m \n",
      " count         1197.00\n",
      "mean    2165960143.10\n",
      "std     1236014192.15\n",
      "min        5114589.00\n",
      "25%     1111826046.00\n",
      "50%     2217984702.00\n",
      "75%     3177606451.00\n",
      "max     4283872382.00\n",
      "Name: visitorId, dtype: float64\n",
      "\n",
      " \u001b[1m \u001b[34mdate\u001b[0m \u001b[0m \n",
      " count           1197\n",
      "unique            31\n",
      "top       2019-08-05\n",
      "freq              48\n",
      "Name: date, dtype: object\n",
      "\n",
      " \u001b[1m \u001b[34mrevenue\u001b[0m \u001b[0m \n",
      " count      1197.00\n",
      "mean       8348.01\n",
      "std       39191.13\n",
      "min          50.00\n",
      "25%        1220.00\n",
      "50%        2978.00\n",
      "75%        8290.00\n",
      "max     1294500.00\n",
      "Name: revenue, dtype: float64\n",
      "\n",
      " \u001b[1m \u001b[34mgroup\u001b[0m \u001b[0m \n",
      " count     1197\n",
      "unique       2\n",
      "top          B\n",
      "freq       640\n",
      "Name: group, dtype: object\n",
      "\n",
      " \u001b[1m \u001b[32mduplicated\u001b[0m \u001b[0m \n",
      "\n",
      "0\n",
      "\n",
      " \u001b[1m \u001b[32munique transactionId\u001b[0m \u001b[0m \n",
      "\n",
      "1197\n",
      "\n",
      " \u001b[1m \u001b[32munique visitorId\u001b[0m \u001b[0m \n",
      "\n",
      "1031\n"
     ]
    }
   ],
   "source": [
    "print_basic_info(orders,1,1,1,4)\n",
    "\n",
    "#unique key\n",
    "print(\"\\n\", bold(),colored('unique transactionId','green'),bold_end(),\"\\n\")\n",
    "print(len(orders['transactionId'].unique()))\n",
    "\n",
    "#unique key\n",
    "print(\"\\n\", bold(),colored('unique visitorId','green'),bold_end(),\"\\n\")\n",
    "print(len(orders['visitorId'].unique()))"
   ]
  },
  {
   "cell_type": "markdown",
   "metadata": {
    "pycharm": {
     "name": "#%% md\n"
    }
   },
   "source": [
    "* Total 1197 transactions from 1031 users. So there were several transactions.\n",
    "* Total 2 groups in the test."
   ]
  },
  {
   "cell_type": "code",
   "execution_count": 61,
   "metadata": {
    "pycharm": {
     "name": "#%%\n"
    }
   },
   "outputs": [
    {
     "name": "stdout",
     "output_type": "stream",
     "text": [
      "\n",
      " \u001b[1m \u001b[32minfo\u001b[0m \u001b[0m \n",
      "\n",
      "<class 'pandas.core.frame.DataFrame'>\n",
      "RangeIndex: 62 entries, 0 to 61\n",
      "Data columns (total 3 columns):\n",
      " #   Column    Non-Null Count  Dtype \n",
      "---  ------    --------------  ----- \n",
      " 0   date      62 non-null     object\n",
      " 1   group     62 non-null     object\n",
      " 2   visitors  62 non-null     int64 \n",
      "dtypes: int64(1), object(2)\n",
      "memory usage: 1.6+ KB\n",
      "None\n",
      "\n",
      " \u001b[1m \u001b[32mhead_tail\u001b[0m \u001b[0m\n"
     ]
    },
    {
     "data": {
      "text/html": [
       "<div>\n",
       "<style scoped>\n",
       "    .dataframe tbody tr th:only-of-type {\n",
       "        vertical-align: middle;\n",
       "    }\n",
       "\n",
       "    .dataframe tbody tr th {\n",
       "        vertical-align: top;\n",
       "    }\n",
       "\n",
       "    .dataframe thead th {\n",
       "        text-align: right;\n",
       "    }\n",
       "</style>\n",
       "<table border=\"1\" class=\"dataframe\">\n",
       "  <thead>\n",
       "    <tr style=\"text-align: right;\">\n",
       "      <th></th>\n",
       "      <th>date</th>\n",
       "      <th>group</th>\n",
       "      <th>visitors</th>\n",
       "    </tr>\n",
       "  </thead>\n",
       "  <tbody>\n",
       "    <tr>\n",
       "      <th>0</th>\n",
       "      <td>2019-08-01</td>\n",
       "      <td>A</td>\n",
       "      <td>719</td>\n",
       "    </tr>\n",
       "    <tr>\n",
       "      <th>1</th>\n",
       "      <td>2019-08-02</td>\n",
       "      <td>A</td>\n",
       "      <td>619</td>\n",
       "    </tr>\n",
       "    <tr>\n",
       "      <th>2</th>\n",
       "      <td>2019-08-03</td>\n",
       "      <td>A</td>\n",
       "      <td>507</td>\n",
       "    </tr>\n",
       "    <tr>\n",
       "      <th>3</th>\n",
       "      <td>2019-08-04</td>\n",
       "      <td>A</td>\n",
       "      <td>717</td>\n",
       "    </tr>\n",
       "    <tr>\n",
       "      <th>58</th>\n",
       "      <td>2019-08-28</td>\n",
       "      <td>B</td>\n",
       "      <td>654</td>\n",
       "    </tr>\n",
       "    <tr>\n",
       "      <th>59</th>\n",
       "      <td>2019-08-29</td>\n",
       "      <td>B</td>\n",
       "      <td>531</td>\n",
       "    </tr>\n",
       "    <tr>\n",
       "      <th>60</th>\n",
       "      <td>2019-08-30</td>\n",
       "      <td>B</td>\n",
       "      <td>490</td>\n",
       "    </tr>\n",
       "    <tr>\n",
       "      <th>61</th>\n",
       "      <td>2019-08-31</td>\n",
       "      <td>B</td>\n",
       "      <td>718</td>\n",
       "    </tr>\n",
       "  </tbody>\n",
       "</table>\n",
       "</div>"
      ],
      "text/plain": [
       "          date group  visitors\n",
       "0   2019-08-01     A       719\n",
       "1   2019-08-02     A       619\n",
       "2   2019-08-03     A       507\n",
       "3   2019-08-04     A       717\n",
       "58  2019-08-28     B       654\n",
       "59  2019-08-29     B       531\n",
       "60  2019-08-30     B       490\n",
       "61  2019-08-31     B       718"
      ]
     },
     "metadata": {},
     "output_type": "display_data"
    },
    {
     "name": "stdout",
     "output_type": "stream",
     "text": [
      "\n",
      " \u001b[1m \u001b[32mdescribe\u001b[0m \u001b[0m \n",
      "\n",
      "\n",
      " \u001b[1m \u001b[34mdate\u001b[0m \u001b[0m \n",
      " count             62\n",
      "unique            31\n",
      "top       2019-08-01\n",
      "freq               2\n",
      "Name: date, dtype: object\n",
      "\n",
      " \u001b[1m \u001b[34mgroup\u001b[0m \u001b[0m \n",
      " count     62\n",
      "unique     2\n",
      "top        A\n",
      "freq      31\n",
      "Name: group, dtype: object\n",
      "\n",
      " \u001b[1m \u001b[34mvisitors\u001b[0m \u001b[0m \n",
      " count        62.00\n",
      "mean        607.29\n",
      "std         114.40\n",
      "min         361.00\n",
      "25%         534.00\n",
      "50%         624.50\n",
      "75%         710.50\n",
      "max         770.00\n",
      "Name: visitors, dtype: float64\n",
      "\n",
      " \u001b[1m \u001b[32mduplicated\u001b[0m \u001b[0m \n",
      "\n",
      "0\n",
      "\n",
      " \u001b[1m \u001b[32munique date\u001b[0m \u001b[0m \n",
      "\n",
      "31\n"
     ]
    }
   ],
   "source": [
    "print_basic_info(visitors,1,1,1,4)\n",
    "\n",
    "print(\"\\n\", bold(),colored('unique date','green'),bold_end(),\"\\n\")\n",
    "print(len(visitors['date'].unique()))"
   ]
  },
  {
   "cell_type": "markdown",
   "metadata": {
    "pycharm": {
     "name": "#%% md\n"
    }
   },
   "source": [
    "* Total 62 lines. 31 days for each group"
   ]
  },
  {
   "cell_type": "code",
   "execution_count": 62,
   "metadata": {
    "pycharm": {
     "name": "#%%\n"
    }
   },
   "outputs": [],
   "source": [
    "# dates format\n",
    "orders['date'] = orders['date'].astype('datetime64') \n",
    "visitors['date'] = visitors['date'].astype('datetime64')"
   ]
  },
  {
   "cell_type": "markdown",
   "metadata": {
    "pycharm": {
     "name": "#%% md\n"
    }
   },
   "source": [
    "#### Checking orders data for adequacy"
   ]
  },
  {
   "cell_type": "code",
   "execution_count": 63,
   "metadata": {
    "pycharm": {
     "name": "#%%\n"
    }
   },
   "outputs": [
    {
     "data": {
      "text/plain": [
       "58"
      ]
     },
     "execution_count": 63,
     "metadata": {},
     "output_type": "execute_result"
    }
   ],
   "source": [
    "#in both groups\n",
    "def in_both(first, second):\n",
    "    return [item for item in first if item in second]\n",
    "\n",
    "list_bad_visitorid  = in_both(orders.query(\"group == 'A'\")['visitorId'].unique()\n",
    "                              , orders.query(\"group == 'B'\")['visitorId'].unique())\n",
    "len(list_bad_visitorid)"
   ]
  },
  {
   "cell_type": "code",
   "execution_count": 64,
   "metadata": {
    "pycharm": {
     "name": "#%%\n"
    }
   },
   "outputs": [
    {
     "name": "stdout",
     "output_type": "stream",
     "text": [
      "1197\n",
      "1016\n"
     ]
    }
   ],
   "source": [
    "# del them\n",
    "\n",
    "print(len(orders))\n",
    "\n",
    "orders  = orders[np.logical_not(orders['visitorId'].isin(list_bad_visitorid))]\n",
    "\n",
    "print(len(orders))"
   ]
  },
  {
   "cell_type": "code",
   "execution_count": 65,
   "metadata": {
    "pycharm": {
     "name": "#%%\n"
    }
   },
   "outputs": [
    {
     "data": {
      "text/plain": [
       "0"
      ]
     },
     "execution_count": 65,
     "metadata": {},
     "output_type": "execute_result"
    }
   ],
   "source": [
    "#cheсk\n",
    "list_bad_visitorid  = in_both(orders.query(\"group == 'A'\")['visitorId'].unique()\n",
    "                              , orders.query(\"group == 'B'\")['visitorId'].unique())\n",
    "len(list_bad_visitorid)"
   ]
  },
  {
   "cell_type": "markdown",
   "metadata": {
    "pycharm": {
     "name": "#%% md\n"
    }
   },
   "source": [
    "## Prioritization of hypotheses\n",
    "<a name=\"1.\"></a>\n",
    "[<font size=\"2\">(to content)</font>](#1common.)"
   ]
  },
  {
   "cell_type": "markdown",
   "metadata": {
    "pycharm": {
     "name": "#%% md\n"
    }
   },
   "source": [
    "9 hypotheses for increasing the revenue of an online store with the specified parameters Reach, Impact, Confidence, Effort.\n",
    "\n",
    "#### An ICE framework for prioritizing hypotheses."
   ]
  },
  {
   "cell_type": "code",
   "execution_count": 66,
   "metadata": {
    "pycharm": {
     "name": "#%%\n"
    }
   },
   "outputs": [
    {
     "data": {
      "text/html": [
       "<div>\n",
       "<style scoped>\n",
       "    .dataframe tbody tr th:only-of-type {\n",
       "        vertical-align: middle;\n",
       "    }\n",
       "\n",
       "    .dataframe tbody tr th {\n",
       "        vertical-align: top;\n",
       "    }\n",
       "\n",
       "    .dataframe thead th {\n",
       "        text-align: right;\n",
       "    }\n",
       "</style>\n",
       "<table border=\"1\" class=\"dataframe\">\n",
       "  <thead>\n",
       "    <tr style=\"text-align: right;\">\n",
       "      <th></th>\n",
       "      <th>Hypothesis</th>\n",
       "      <th>ICE</th>\n",
       "      <th>Rank_ICE</th>\n",
       "    </tr>\n",
       "  </thead>\n",
       "  <tbody>\n",
       "    <tr>\n",
       "      <th>8</th>\n",
       "      <td>Запустить акцию, дающую скидку на товар в день рождения</td>\n",
       "      <td>16.20</td>\n",
       "      <td>1.00</td>\n",
       "    </tr>\n",
       "    <tr>\n",
       "      <th>0</th>\n",
       "      <td>Добавить два новых канала привлечения трафика, что позволит привлекать на 30% больше пользователей</td>\n",
       "      <td>13.33</td>\n",
       "      <td>2.00</td>\n",
       "    </tr>\n",
       "    <tr>\n",
       "      <th>7</th>\n",
       "      <td>Добавить форму подписки на все основные страницы, чтобы собрать базу клиентов для email-рассылок</td>\n",
       "      <td>11.20</td>\n",
       "      <td>3.00</td>\n",
       "    </tr>\n",
       "    <tr>\n",
       "      <th>6</th>\n",
       "      <td>Показать на главной странице баннеры с актуальными акциями и распродажами, чтобы увеличить конверсию</td>\n",
       "      <td>8.00</td>\n",
       "      <td>4.00</td>\n",
       "    </tr>\n",
       "    <tr>\n",
       "      <th>2</th>\n",
       "      <td>Добавить блоки рекомендаций товаров на сайт интернет магазина, чтобы повысить конверсию и средний чек заказа</td>\n",
       "      <td>7.00</td>\n",
       "      <td>5.00</td>\n",
       "    </tr>\n",
       "    <tr>\n",
       "      <th>1</th>\n",
       "      <td>Запустить собственную службу доставки, что сократит срок доставки заказов</td>\n",
       "      <td>2.00</td>\n",
       "      <td>6.00</td>\n",
       "    </tr>\n",
       "    <tr>\n",
       "      <th>5</th>\n",
       "      <td>Добавить страницу отзывов клиентов о магазине, что позволит увеличить количество заказов</td>\n",
       "      <td>1.33</td>\n",
       "      <td>7.00</td>\n",
       "    </tr>\n",
       "    <tr>\n",
       "      <th>3</th>\n",
       "      <td>Изменить структура категорий, что увеличит конверсию, т.к. пользователи быстрее найдут нужный товар</td>\n",
       "      <td>1.12</td>\n",
       "      <td>8.00</td>\n",
       "    </tr>\n",
       "    <tr>\n",
       "      <th>4</th>\n",
       "      <td>Изменить цвет фона главной страницы, чтобы увеличить вовлеченность пользователей</td>\n",
       "      <td>1.00</td>\n",
       "      <td>9.00</td>\n",
       "    </tr>\n",
       "  </tbody>\n",
       "</table>\n",
       "</div>"
      ],
      "text/plain": [
       "                                                                                                     Hypothesis  \\\n",
       "8                                                       Запустить акцию, дающую скидку на товар в день рождения   \n",
       "0            Добавить два новых канала привлечения трафика, что позволит привлекать на 30% больше пользователей   \n",
       "7              Добавить форму подписки на все основные страницы, чтобы собрать базу клиентов для email-рассылок   \n",
       "6          Показать на главной странице баннеры с актуальными акциями и распродажами, чтобы увеличить конверсию   \n",
       "2  Добавить блоки рекомендаций товаров на сайт интернет магазина, чтобы повысить конверсию и средний чек заказа   \n",
       "1                                     Запустить собственную службу доставки, что сократит срок доставки заказов   \n",
       "5                      Добавить страницу отзывов клиентов о магазине, что позволит увеличить количество заказов   \n",
       "3           Изменить структура категорий, что увеличит конверсию, т.к. пользователи быстрее найдут нужный товар   \n",
       "4                              Изменить цвет фона главной страницы, чтобы увеличить вовлеченность пользователей   \n",
       "\n",
       "         ICE   Rank_ICE  \n",
       "8      16.20       1.00  \n",
       "0      13.33       2.00  \n",
       "7      11.20       3.00  \n",
       "6       8.00       4.00  \n",
       "2       7.00       5.00  \n",
       "1       2.00       6.00  \n",
       "5       1.33       7.00  \n",
       "3       1.12       8.00  \n",
       "4       1.00       9.00  "
      ]
     },
     "execution_count": 66,
     "metadata": {},
     "output_type": "execute_result"
    }
   ],
   "source": [
    "hypothesis['ICE'] = (hypothesis['Impact'] * hypothesis['Confidence'] ) / hypothesis['Efforts']\n",
    " \n",
    "hypothesis['Rank_ICE'] = hypothesis['ICE'].rank(method='first', ascending=False)\n",
    "hypothesis = hypothesis.sort_values(by='ICE', ascending=False)\n",
    "hypothesis[['Hypothesis', 'ICE','Rank_ICE']]"
   ]
  },
  {
   "cell_type": "code",
   "execution_count": 67,
   "metadata": {
    "pycharm": {
     "name": "#%%\n"
    }
   },
   "outputs": [
    {
     "data": {
      "text/plain": [
       "array(['Запустить акцию, дающую скидку на товар в день рождения',\n",
       "       'Добавить два новых канала привлечения трафика, что позволит привлекать на 30% больше пользователей',\n",
       "       'Добавить форму подписки на все основные страницы, чтобы собрать базу клиентов для email-рассылок',\n",
       "       'Показать на главной странице баннеры с актуальными акциями и распродажами, чтобы увеличить конверсию',\n",
       "       'Добавить блоки рекомендаций товаров на сайт интернет магазина, чтобы повысить конверсию и средний чек заказа'],\n",
       "      dtype=object)"
      ]
     },
     "execution_count": 67,
     "metadata": {},
     "output_type": "execute_result"
    }
   ],
   "source": [
    "\n",
    "hypothesis[['Hypothesis', 'ICE']].sort_values(by='ICE', ascending=False)['Hypothesis'].values[0:5]"
   ]
  },
  {
   "cell_type": "markdown",
   "metadata": {
    "pycharm": {
     "name": "#%% md\n"
    }
   },
   "source": [
    "#### Фреймворк RICE для приоритизации гипотез."
   ]
  },
  {
   "cell_type": "code",
   "execution_count": 68,
   "metadata": {
    "pycharm": {
     "name": "#%%\n"
    }
   },
   "outputs": [
    {
     "data": {
      "text/html": [
       "<div>\n",
       "<style scoped>\n",
       "    .dataframe tbody tr th:only-of-type {\n",
       "        vertical-align: middle;\n",
       "    }\n",
       "\n",
       "    .dataframe tbody tr th {\n",
       "        vertical-align: top;\n",
       "    }\n",
       "\n",
       "    .dataframe thead th {\n",
       "        text-align: right;\n",
       "    }\n",
       "</style>\n",
       "<table border=\"1\" class=\"dataframe\">\n",
       "  <thead>\n",
       "    <tr style=\"text-align: right;\">\n",
       "      <th></th>\n",
       "      <th>Hypothesis</th>\n",
       "      <th>RICE</th>\n",
       "      <th>Rank_RICE</th>\n",
       "    </tr>\n",
       "  </thead>\n",
       "  <tbody>\n",
       "    <tr>\n",
       "      <th>7</th>\n",
       "      <td>Добавить форму подписки на все основные страницы, чтобы собрать базу клиентов для email-рассылок</td>\n",
       "      <td>112.00</td>\n",
       "      <td>1.00</td>\n",
       "    </tr>\n",
       "    <tr>\n",
       "      <th>2</th>\n",
       "      <td>Добавить блоки рекомендаций товаров на сайт интернет магазина, чтобы повысить конверсию и средний чек заказа</td>\n",
       "      <td>56.00</td>\n",
       "      <td>2.00</td>\n",
       "    </tr>\n",
       "    <tr>\n",
       "      <th>0</th>\n",
       "      <td>Добавить два новых канала привлечения трафика, что позволит привлекать на 30% больше пользователей</td>\n",
       "      <td>40.00</td>\n",
       "      <td>3.00</td>\n",
       "    </tr>\n",
       "    <tr>\n",
       "      <th>6</th>\n",
       "      <td>Показать на главной странице баннеры с актуальными акциями и распродажами, чтобы увеличить конверсию</td>\n",
       "      <td>40.00</td>\n",
       "      <td>4.00</td>\n",
       "    </tr>\n",
       "    <tr>\n",
       "      <th>8</th>\n",
       "      <td>Запустить акцию, дающую скидку на товар в день рождения</td>\n",
       "      <td>16.20</td>\n",
       "      <td>5.00</td>\n",
       "    </tr>\n",
       "    <tr>\n",
       "      <th>3</th>\n",
       "      <td>Изменить структура категорий, что увеличит конверсию, т.к. пользователи быстрее найдут нужный товар</td>\n",
       "      <td>9.00</td>\n",
       "      <td>6.00</td>\n",
       "    </tr>\n",
       "    <tr>\n",
       "      <th>1</th>\n",
       "      <td>Запустить собственную службу доставки, что сократит срок доставки заказов</td>\n",
       "      <td>4.00</td>\n",
       "      <td>7.00</td>\n",
       "    </tr>\n",
       "    <tr>\n",
       "      <th>5</th>\n",
       "      <td>Добавить страницу отзывов клиентов о магазине, что позволит увеличить количество заказов</td>\n",
       "      <td>4.00</td>\n",
       "      <td>8.00</td>\n",
       "    </tr>\n",
       "    <tr>\n",
       "      <th>4</th>\n",
       "      <td>Изменить цвет фона главной страницы, чтобы увеличить вовлеченность пользователей</td>\n",
       "      <td>3.00</td>\n",
       "      <td>9.00</td>\n",
       "    </tr>\n",
       "  </tbody>\n",
       "</table>\n",
       "</div>"
      ],
      "text/plain": [
       "                                                                                                     Hypothesis  \\\n",
       "7              Добавить форму подписки на все основные страницы, чтобы собрать базу клиентов для email-рассылок   \n",
       "2  Добавить блоки рекомендаций товаров на сайт интернет магазина, чтобы повысить конверсию и средний чек заказа   \n",
       "0            Добавить два новых канала привлечения трафика, что позволит привлекать на 30% больше пользователей   \n",
       "6          Показать на главной странице баннеры с актуальными акциями и распродажами, чтобы увеличить конверсию   \n",
       "8                                                       Запустить акцию, дающую скидку на товар в день рождения   \n",
       "3           Изменить структура категорий, что увеличит конверсию, т.к. пользователи быстрее найдут нужный товар   \n",
       "1                                     Запустить собственную службу доставки, что сократит срок доставки заказов   \n",
       "5                      Добавить страницу отзывов клиентов о магазине, что позволит увеличить количество заказов   \n",
       "4                              Изменить цвет фона главной страницы, чтобы увеличить вовлеченность пользователей   \n",
       "\n",
       "        RICE  Rank_RICE  \n",
       "7     112.00       1.00  \n",
       "2      56.00       2.00  \n",
       "0      40.00       3.00  \n",
       "6      40.00       4.00  \n",
       "8      16.20       5.00  \n",
       "3       9.00       6.00  \n",
       "1       4.00       7.00  \n",
       "5       4.00       8.00  \n",
       "4       3.00       9.00  "
      ]
     },
     "execution_count": 68,
     "metadata": {},
     "output_type": "execute_result"
    }
   ],
   "source": [
    "hypothesis['RICE'] = (hypothesis['Reach'] * hypothesis['Impact'] * hypothesis['Confidence']) / hypothesis['Efforts']\n",
    "    \n",
    "hypothesis['Rank_RICE'] = hypothesis['RICE'].rank(method='first', ascending=False)\n",
    "hypothesis = hypothesis.sort_values(by='RICE', ascending=False)\n",
    "hypothesis[['Hypothesis', 'RICE','Rank_RICE']]\n"
   ]
  },
  {
   "cell_type": "code",
   "execution_count": 69,
   "metadata": {
    "pycharm": {
     "name": "#%%\n"
    }
   },
   "outputs": [
    {
     "data": {
      "text/plain": [
       "array(['Добавить форму подписки на все основные страницы, чтобы собрать базу клиентов для email-рассылок',\n",
       "       'Добавить блоки рекомендаций товаров на сайт интернет магазина, чтобы повысить конверсию и средний чек заказа',\n",
       "       'Добавить два новых канала привлечения трафика, что позволит привлекать на 30% больше пользователей',\n",
       "       'Показать на главной странице баннеры с актуальными акциями и распродажами, чтобы увеличить конверсию',\n",
       "       'Запустить акцию, дающую скидку на товар в день рождения'],\n",
       "      dtype=object)"
      ]
     },
     "execution_count": 69,
     "metadata": {},
     "output_type": "execute_result"
    }
   ],
   "source": [
    "\n",
    "hypothesis[['Hypothesis', 'RICE']].sort_values(by='RICE', ascending=False)['Hypothesis'].values[0:5]\n"
   ]
  },
  {
   "cell_type": "markdown",
   "metadata": {
    "pycharm": {
     "name": "#%% md\n"
    }
   },
   "source": [
    "#### Как изменилась приоритизация гипотез при применении RICE вместо ICE."
   ]
  },
  {
   "cell_type": "code",
   "execution_count": 70,
   "metadata": {
    "pycharm": {
     "name": "#%%\n"
    }
   },
   "outputs": [
    {
     "data": {
      "text/html": [
       "<div>\n",
       "<style scoped>\n",
       "    .dataframe tbody tr th:only-of-type {\n",
       "        vertical-align: middle;\n",
       "    }\n",
       "\n",
       "    .dataframe tbody tr th {\n",
       "        vertical-align: top;\n",
       "    }\n",
       "\n",
       "    .dataframe thead th {\n",
       "        text-align: right;\n",
       "    }\n",
       "</style>\n",
       "<table border=\"1\" class=\"dataframe\">\n",
       "  <thead>\n",
       "    <tr style=\"text-align: right;\">\n",
       "      <th></th>\n",
       "      <th>Hypothesis</th>\n",
       "      <th>Reach</th>\n",
       "      <th>Rank_ICE</th>\n",
       "      <th>Rank_RICE</th>\n",
       "    </tr>\n",
       "  </thead>\n",
       "  <tbody>\n",
       "    <tr>\n",
       "      <th>7</th>\n",
       "      <td>Добавить форму подписки на все основные страницы, чтобы собрать базу клиентов для email-рассылок</td>\n",
       "      <td>10</td>\n",
       "      <td>3.00</td>\n",
       "      <td>1.00</td>\n",
       "    </tr>\n",
       "    <tr>\n",
       "      <th>2</th>\n",
       "      <td>Добавить блоки рекомендаций товаров на сайт интернет магазина, чтобы повысить конверсию и средний чек заказа</td>\n",
       "      <td>8</td>\n",
       "      <td>5.00</td>\n",
       "      <td>2.00</td>\n",
       "    </tr>\n",
       "    <tr>\n",
       "      <th>0</th>\n",
       "      <td>Добавить два новых канала привлечения трафика, что позволит привлекать на 30% больше пользователей</td>\n",
       "      <td>3</td>\n",
       "      <td>2.00</td>\n",
       "      <td>3.00</td>\n",
       "    </tr>\n",
       "    <tr>\n",
       "      <th>6</th>\n",
       "      <td>Показать на главной странице баннеры с актуальными акциями и распродажами, чтобы увеличить конверсию</td>\n",
       "      <td>5</td>\n",
       "      <td>4.00</td>\n",
       "      <td>4.00</td>\n",
       "    </tr>\n",
       "    <tr>\n",
       "      <th>8</th>\n",
       "      <td>Запустить акцию, дающую скидку на товар в день рождения</td>\n",
       "      <td>1</td>\n",
       "      <td>1.00</td>\n",
       "      <td>5.00</td>\n",
       "    </tr>\n",
       "    <tr>\n",
       "      <th>3</th>\n",
       "      <td>Изменить структура категорий, что увеличит конверсию, т.к. пользователи быстрее найдут нужный товар</td>\n",
       "      <td>8</td>\n",
       "      <td>8.00</td>\n",
       "      <td>6.00</td>\n",
       "    </tr>\n",
       "    <tr>\n",
       "      <th>1</th>\n",
       "      <td>Запустить собственную службу доставки, что сократит срок доставки заказов</td>\n",
       "      <td>2</td>\n",
       "      <td>6.00</td>\n",
       "      <td>7.00</td>\n",
       "    </tr>\n",
       "    <tr>\n",
       "      <th>5</th>\n",
       "      <td>Добавить страницу отзывов клиентов о магазине, что позволит увеличить количество заказов</td>\n",
       "      <td>3</td>\n",
       "      <td>7.00</td>\n",
       "      <td>8.00</td>\n",
       "    </tr>\n",
       "    <tr>\n",
       "      <th>4</th>\n",
       "      <td>Изменить цвет фона главной страницы, чтобы увеличить вовлеченность пользователей</td>\n",
       "      <td>3</td>\n",
       "      <td>9.00</td>\n",
       "      <td>9.00</td>\n",
       "    </tr>\n",
       "  </tbody>\n",
       "</table>\n",
       "</div>"
      ],
      "text/plain": [
       "                                                                                                     Hypothesis  \\\n",
       "7              Добавить форму подписки на все основные страницы, чтобы собрать базу клиентов для email-рассылок   \n",
       "2  Добавить блоки рекомендаций товаров на сайт интернет магазина, чтобы повысить конверсию и средний чек заказа   \n",
       "0            Добавить два новых канала привлечения трафика, что позволит привлекать на 30% больше пользователей   \n",
       "6          Показать на главной странице баннеры с актуальными акциями и распродажами, чтобы увеличить конверсию   \n",
       "8                                                       Запустить акцию, дающую скидку на товар в день рождения   \n",
       "3           Изменить структура категорий, что увеличит конверсию, т.к. пользователи быстрее найдут нужный товар   \n",
       "1                                     Запустить собственную службу доставки, что сократит срок доставки заказов   \n",
       "5                      Добавить страницу отзывов клиентов о магазине, что позволит увеличить количество заказов   \n",
       "4                              Изменить цвет фона главной страницы, чтобы увеличить вовлеченность пользователей   \n",
       "\n",
       "   Reach   Rank_ICE  Rank_RICE  \n",
       "7     10       3.00       1.00  \n",
       "2      8       5.00       2.00  \n",
       "0      3       2.00       3.00  \n",
       "6      5       4.00       4.00  \n",
       "8      1       1.00       5.00  \n",
       "3      8       8.00       6.00  \n",
       "1      2       6.00       7.00  \n",
       "5      3       7.00       8.00  \n",
       "4      3       9.00       9.00  "
      ]
     },
     "execution_count": 70,
     "metadata": {},
     "output_type": "execute_result"
    }
   ],
   "source": [
    "hypothesis[['Hypothesis', 'Reach', 'Rank_ICE','Rank_RICE']]"
   ]
  },
  {
   "cell_type": "markdown",
   "metadata": {
    "pycharm": {
     "name": "#%% md\n"
    }
   },
   "source": [
    "The difference in prioritization of hypotheses is related to the Reach score. Namely, what percentage of the audience is involved in these changes.\n",
    "\n",
    "Therefore, it is quite logical that the birthday promotion (i.e. interaction with one client once a year) has decreased its position.\n",
    "and collecting a customer base for email newsletters (i.e. a new channel of endless interaction) has significantly increased its own."
   ]
  },
  {
   "cell_type": "markdown",
   "metadata": {
    "pycharm": {
     "name": "#%% md\n"
    }
   },
   "source": [
    "## A/B test analysis\n",
    "<a name=\"2.\"></a>\n",
    "[<font size=\"2\">(to content)</font>](#1common.)\n",
    "\n",
    "You ran an A/B test and got the results described in the orders.csv and visitors.csv files."
   ]
  },
  {
   "cell_type": "markdown",
   "metadata": {
    "pycharm": {
     "name": "#%% md\n"
    }
   },
   "source": [
    "#### Graph of cumulative revenue by groups."
   ]
  },
  {
   "cell_type": "code",
   "execution_count": 71,
   "metadata": {
    "pycharm": {
     "name": "#%%\n"
    }
   },
   "outputs": [
    {
     "data": {
      "image/png": "[encoded data removed]",
      "text/plain": [
       "<Figure size 1080x360 with 2 Axes>"
      ]
     },
     "metadata": {},
     "output_type": "display_data"
    }
   ],
   "source": [
    "output = orders.pivot_table(\n",
    "    index='date', columns='group', values='revenue', aggfunc='sum'\n",
    ")\n",
    "output.index = (output.index.astype('str').str[-2:]).astype('int')\n",
    "\n",
    "f, (ax1, ax2)=plt.subplots(1, 2, figsize=(15, 5), sharex=True)\n",
    "#A\n",
    "ax1.text(.1, .90, \"Cumulative Revenue A\", transform=ax1.transAxes, fontweight=\"bold\")\n",
    "sns.lineplot(data=output.cumsum(axis = 0), x=output.cumsum(axis = 0).index, y=\"A\",\n",
    "             estimator=None,palette=\"crest\", linewidth=5, ax=ax1)\n",
    "sns.lineplot(data=output.cumsum(axis = 0), x=output.cumsum(axis = 0).index, y=\"B\",\n",
    "             estimator=None, color=\".2\", linewidth=2, ax=ax1)\n",
    "\n",
    "#B\n",
    "ax2.text(.1, .90, \"Cumulative Revenue B\", transform=ax2.transAxes, fontweight=\"bold\")\n",
    "sns.lineplot(data=output.cumsum(axis = 0), x=output.cumsum(axis = 0).index, y=\"B\",\n",
    "             estimator=None,palette=\"crest\", linewidth=5, ax=ax2)\n",
    "sns.lineplot(data=output.cumsum(axis = 0), x=output.cumsum(axis = 0).index, y=\"A\",\n",
    "             estimator=None, color=\".2\", linewidth=2, ax=ax2)\n",
    "\n",
    "ax1.axhline(0, color=\"k\", clip_on=False)\n",
    "ax1.set_ylabel(\"Revenue\")\n",
    "ax2.set_ylabel(\"\")\n",
    "ax1.set_xlabel(\"Dates\")\n",
    "ax2.set_xlabel(\"Dates\")\n",
    "\n",
    "\n",
    "\n",
    "sns.despine(bottom=True)\n",
    "plt.tight_layout(h_pad=2)"
   ]
  },
  {
   "cell_type": "markdown",
   "metadata": {
    "pycharm": {
     "name": "#%% md\n"
    }
   },
   "source": [
    "The cumulative revenue in test group B is higher, but there is a sharp jump in the data, probably a very large order.\n",
    "\n",
    "This probably distorted the picture."
   ]
  },
  {
   "cell_type": "markdown",
   "metadata": {
    "pycharm": {
     "name": "#%% md\n"
    }
   },
   "source": [
    "#### Graph of the cumulative average bill by groups. Make inferences and assumptions."
   ]
  },
  {
   "cell_type": "code",
   "execution_count": 72,
   "metadata": {
    "pycharm": {
     "name": "#%%\n"
    }
   },
   "outputs": [],
   "source": [
    "datesGroups = orders[['date', 'group']].drop_duplicates()\n",
    "\n",
    "output = datesGroups.apply(\n",
    "    lambda x: orders[\n",
    "        np.logical_and(orders['date'] <= x['date'], orders['group'] == x['group'])\n",
    "    ].agg({'date': 'max','group': 'max','revenue': 'mean'}),\n",
    "    axis=1\n",
    ").sort_values(by=['date', 'group'])\n",
    "\n",
    "output['day'] = output['date'].dt.day"
   ]
  },
  {
   "cell_type": "code",
   "execution_count": 73,
   "metadata": {
    "pycharm": {
     "name": "#%%\n"
    }
   },
   "outputs": [
    {
     "data": {
      "image/png": "[encoded data removed]",
      "text/plain": [
       "<Figure size 1080x360 with 2 Axes>"
      ]
     },
     "metadata": {},
     "output_type": "display_data"
    }
   ],
   "source": [
    "g = sns.relplot(\n",
    "    data=output,\n",
    "    y=\"revenue\", x=\"day\", col=\"group\", hue=\"group\",\n",
    "    kind=\"line\", linewidth=4, zorder=5,\n",
    "    col_wrap=2, height=5, aspect=1.5, legend=False,\n",
    ")\n",
    "\n",
    "for group, ax in g.axes_dict.items():\n",
    "    ax.text(.1, .90, \"Cumulative mean \"+str(group), transform=ax.transAxes, fontweight=\"bold\")\n",
    "    sns.lineplot(\n",
    "        data=output, x=\"day\", y=\"revenue\", units=\"group\",\n",
    "        estimator=None, color=\".7\", linewidth=1, ax=ax,\n",
    "    )\n",
    "\n",
    "ax.set(xlim=(0, 32))\n",
    "\n",
    "    \n",
    "ax.set_xticks(ax.get_xticks()[::2])\n",
    "g.set_titles(\"\")\n",
    "g.set_axis_labels(\"Day\", \"Average bill\")\n",
    "g.tight_layout()"
   ]
  },
  {
   "cell_type": "markdown",
   "metadata": {
    "pycharm": {
     "name": "#%% md\n"
    }
   },
   "source": [
    "As suspected, there were large checks that distorted the picture."
   ]
  },
  {
   "cell_type": "markdown",
   "metadata": {
    "pycharm": {
     "name": "#%% md\n"
    }
   },
   "source": [
    "#### Graph of the relative change in the cumulative average check of group B to group A."
   ]
  },
  {
   "cell_type": "code",
   "execution_count": 77,
   "metadata": {
    "pycharm": {
     "name": "#%%\n"
    }
   },
   "outputs": [
    {
     "data": {
      "image/png": "[encoded data removed]",
      "text/plain": [
       "<Figure size 1080x360 with 1 Axes>"
      ]
     },
     "metadata": {},
     "output_type": "display_data"
    }
   ],
   "source": [
    "output2 = output.pivot_table(\n",
    "    index='date', columns='group', values='revenue', aggfunc='mean').reset_index()\n",
    "output2['change'] = ((output2['B']) / (output2['A']) - 1)\n",
    "\n",
    "plt.figure(figsize = (15,5)) \n",
    "\n",
    "plt.ylim=(-0.5, 0.5)\n",
    "\n",
    "plt.plot(output2['date'].dt.day,output2['change'] )\n",
    "plt.axhline(y=0, color='black', linestyle='--') \n",
    "\n",
    "plt.title(\"Cumulative Average Ticket Changes \\n\", fontsize=15)\n",
    "plt.ylabel(\"Change group B to group A\")\n",
    "plt.xlabel(\"Days\")\n",
    "\n",
    "plt.show()"
   ]
  },
  {
   "cell_type": "markdown",
   "metadata": {
    "pycharm": {
     "name": "#%% md\n"
    }
   },
   "source": [
    "After the rise of the average in group B, the indicator will decrease. Maybe she's not doing so well."
   ]
  },
  {
   "cell_type": "markdown",
   "metadata": {
    "pycharm": {
     "name": "#%% md\n"
    }
   },
   "source": [
    "#### Graph of cumulative conversion by groups. Make inferences and assumptions."
   ]
  },
  {
   "cell_type": "code",
   "execution_count": 78,
   "metadata": {
    "pycharm": {
     "name": "#%%\n"
    }
   },
   "outputs": [],
   "source": [
    "datesGroups = orders[['date', 'group']].drop_duplicates()\n",
    "\n",
    "# find unique purchases\n",
    "output = datesGroups.apply(\n",
    "    lambda x: orders[\n",
    "        np.logical_and(orders['date'] == x['date'], orders['group'] == x['group'])\n",
    "    ].agg({'date': 'max','group': 'max','revenue': 'nunique'}),\n",
    "    axis=1\n",
    ").sort_values(by=['date', 'group'])"
   ]
  },
  {
   "cell_type": "code",
   "execution_count": 79,
   "metadata": {
    "pycharm": {
     "name": "#%%\n"
    }
   },
   "outputs": [
    {
     "data": {
      "text/html": [
       "<div>\n",
       "<style scoped>\n",
       "    .dataframe tbody tr th:only-of-type {\n",
       "        vertical-align: middle;\n",
       "    }\n",
       "\n",
       "    .dataframe tbody tr th {\n",
       "        vertical-align: top;\n",
       "    }\n",
       "\n",
       "    .dataframe thead tr th {\n",
       "        text-align: left;\n",
       "    }\n",
       "</style>\n",
       "<table border=\"1\" class=\"dataframe\">\n",
       "  <thead>\n",
       "    <tr>\n",
       "      <th></th>\n",
       "      <th>date</th>\n",
       "      <th colspan=\"2\" halign=\"left\">revenue</th>\n",
       "      <th colspan=\"2\" halign=\"left\">visitors</th>\n",
       "      <th>day</th>\n",
       "      <th>cum_conversion_A</th>\n",
       "      <th>cum_conversion_B</th>\n",
       "    </tr>\n",
       "    <tr>\n",
       "      <th>group</th>\n",
       "      <th></th>\n",
       "      <th>A</th>\n",
       "      <th>B</th>\n",
       "      <th>A</th>\n",
       "      <th>B</th>\n",
       "      <th></th>\n",
       "      <th></th>\n",
       "      <th></th>\n",
       "    </tr>\n",
       "  </thead>\n",
       "  <tbody>\n",
       "    <tr>\n",
       "      <th>0</th>\n",
       "      <td>2019-08-01</td>\n",
       "      <td>22</td>\n",
       "      <td>16</td>\n",
       "      <td>719</td>\n",
       "      <td>713</td>\n",
       "      <td>1</td>\n",
       "      <td>0.03</td>\n",
       "      <td>0.02</td>\n",
       "    </tr>\n",
       "    <tr>\n",
       "      <th>1</th>\n",
       "      <td>2019-08-02</td>\n",
       "      <td>40</td>\n",
       "      <td>38</td>\n",
       "      <td>1338</td>\n",
       "      <td>1294</td>\n",
       "      <td>2</td>\n",
       "      <td>0.03</td>\n",
       "      <td>0.03</td>\n",
       "    </tr>\n",
       "    <tr>\n",
       "      <th>2</th>\n",
       "      <td>2019-08-03</td>\n",
       "      <td>64</td>\n",
       "      <td>51</td>\n",
       "      <td>1845</td>\n",
       "      <td>1803</td>\n",
       "      <td>3</td>\n",
       "      <td>0.03</td>\n",
       "      <td>0.03</td>\n",
       "    </tr>\n",
       "    <tr>\n",
       "      <th>3</th>\n",
       "      <td>2019-08-04</td>\n",
       "      <td>75</td>\n",
       "      <td>65</td>\n",
       "      <td>2562</td>\n",
       "      <td>2573</td>\n",
       "      <td>4</td>\n",
       "      <td>0.03</td>\n",
       "      <td>0.03</td>\n",
       "    </tr>\n",
       "    <tr>\n",
       "      <th>4</th>\n",
       "      <td>2019-08-05</td>\n",
       "      <td>97</td>\n",
       "      <td>85</td>\n",
       "      <td>3318</td>\n",
       "      <td>3280</td>\n",
       "      <td>5</td>\n",
       "      <td>0.03</td>\n",
       "      <td>0.03</td>\n",
       "    </tr>\n",
       "  </tbody>\n",
       "</table>\n",
       "</div>"
      ],
      "text/plain": [
       "            date revenue     visitors       day cum_conversion_A  \\\n",
       "group                  A   B        A     B                        \n",
       "0     2019-08-01      22  16      719   713   1             0.03   \n",
       "1     2019-08-02      40  38     1338  1294   2             0.03   \n",
       "2     2019-08-03      64  51     1845  1803   3             0.03   \n",
       "3     2019-08-04      75  65     2562  2573   4             0.03   \n",
       "4     2019-08-05      97  85     3318  3280   5             0.03   \n",
       "\n",
       "      cum_conversion_B  \n",
       "group                   \n",
       "0                 0.02  \n",
       "1                 0.03  \n",
       "2                 0.03  \n",
       "3                 0.03  \n",
       "4                 0.03  "
      ]
     },
     "execution_count": 79,
     "metadata": {},
     "output_type": "execute_result"
    }
   ],
   "source": [
    "#merge\n",
    "conversion_data = output.merge(visitors, on = ['date', 'group'])\n",
    "\n",
    "# make it cumulative\n",
    "output3 = conversion_data.pivot_table(\n",
    "    index='date', columns='group', values=['revenue','visitors'], aggfunc='mean')\n",
    "output3 = output3.cumsum(axis = 0).reset_index()\n",
    "output3['day'] = output3['date'].dt.day\n",
    "# calculate conversions\n",
    "output3['cum_conversion_A'] = output3[( 'revenue', 'A')] / output3[('visitors', 'A')]\n",
    "output3['cum_conversion_B'] = output3[( 'revenue', 'B')] / output3[('visitors', 'B')]\n",
    "\n",
    "output3.head()"
   ]
  },
  {
   "cell_type": "code",
   "execution_count": 80,
   "metadata": {
    "pycharm": {
     "name": "#%%\n"
    }
   },
   "outputs": [
    {
     "data": {
      "image/png": "[encoded data removed]",
      "text/plain": [
       "<Figure size 1080x360 with 2 Axes>"
      ]
     },
     "metadata": {},
     "output_type": "display_data"
    }
   ],
   "source": [
    "f, (ax1, ax2)=plt.subplots(1, 2, figsize=(15, 5), sharex=True)\n",
    "\n",
    "ax1.set(ylim=(0.02, 0.04))\n",
    "ax2.set(ylim=(0.02, 0.04))\n",
    "\n",
    "#A\n",
    "ax1.text(.1, .90, \"Cumulative Conversion A\", transform=ax1.transAxes, fontweight=\"bold\")\n",
    "sns.lineplot(data=output3, x=output3['day'], y=\"cum_conversion_A\",\n",
    "             estimator=None,palette=\"crest\", linewidth=5, ax=ax1)\n",
    "sns.lineplot(data=output3, x=output3['day'], y=\"cum_conversion_B\",\n",
    "             estimator=None, color=\".2\", linewidth=2, ax=ax1)\n",
    "\n",
    "#B\n",
    "ax2.text(.1, .90, \"Cumulative Conversion B\", transform=ax2.transAxes, fontweight=\"bold\")\n",
    "sns.lineplot(data=output3, x=output3['day'], y=\"cum_conversion_B\",\n",
    "             estimator=None,palette=\"crest\", linewidth=5, ax=ax2)\n",
    "sns.lineplot(data=output3, x=output3['day'], y=\"cum_conversion_A\",\n",
    "             estimator=None, color=\".2\", linewidth=2, ax=ax2)\n",
    "\n",
    "ax1.set_ylabel(\"Purchase during visit\")\n",
    "ax2.set_ylabel(\"\")\n",
    "ax1.set_xlabel(\"Dates\")\n",
    "ax2.set_xlabel(\"Dates\")\n",
    "\n",
    "\n",
    "sns.despine(bottom=True)\n",
    "plt.tight_layout(h_pad=2)\n",
    "\n",
    "plt.show()"
   ]
  },
  {
   "cell_type": "markdown",
   "metadata": {
    "pycharm": {
     "name": "#%% md\n"
    }
   },
   "source": [
    "According to this parameter, group B is ahead of A. At the same time, a strong outlier is not visible in the data"
   ]
  },
  {
   "cell_type": "markdown",
   "metadata": {
    "pycharm": {
     "name": "#%% md\n"
    }
   },
   "source": [
    "#### Graph of the relative change in the cumulative conversion of group B to group A."
   ]
  },
  {
   "cell_type": "code",
   "execution_count": 82,
   "metadata": {
    "pycharm": {
     "name": "#%%\n"
    }
   },
   "outputs": [
    {
     "data": {
      "image/png": "[encoded data removed]",
      "text/plain": [
       "<Figure size 1080x360 with 1 Axes>"
      ]
     },
     "metadata": {},
     "output_type": "display_data"
    }
   ],
   "source": [
    "output3['change'] = (output3['cum_conversion_B'] / output3['cum_conversion_A']) - 1\n",
    "\n",
    "plt.figure(figsize = (15,5)) \n",
    "plt.plot(output3['date'].dt.day,output3['change'] )\n",
    "plt.axhline(y=0, color='black', linestyle='--') \n",
    "plt.axhline(y=0.1, color='red', linestyle='--') \n",
    "\n",
    "plt.title(\"Cumulative conversion changes\\n\", fontsize=15)\n",
    "plt.ylabel(\"Change group B to group A\")\n",
    "plt.xlabel(\"Days\")\n",
    "plt.show()"
   ]
  },
  {
   "cell_type": "markdown",
   "metadata": {
    "pycharm": {
     "name": "#%% md\n"
    }
   },
   "source": [
    "Positive dynamics is visible for group B. It is necessary to check whether there is a bias among users. Perhaps one visitor made an abnormally large number of orders and this brought down the dynamics"
   ]
  },
  {
   "cell_type": "markdown",
   "metadata": {
    "pycharm": {
     "name": "#%% md\n"
    }
   },
   "source": [
    "#### Scatter plot of the number of orders by user. Make inferences and assumptions."
   ]
  },
  {
   "cell_type": "code",
   "execution_count": 86,
   "metadata": {
    "pycharm": {
     "name": "#%%\n"
    }
   },
   "outputs": [
    {
     "data": {
      "image/png": "[encoded data removed]",
      "text/plain": [
       "<Figure size 1080x360 with 1 Axes>"
      ]
     },
     "metadata": {},
     "output_type": "display_data"
    }
   ],
   "source": [
    "orders_count = orders.pivot_table(index='visitorId', aggfunc='nunique')\n",
    "x_values = pd.Series(range(0,len(orders_count)))\n",
    "plt.figure(figsize = (15,5)) \n",
    "\n",
    "plt.scatter(x_values, orders_count['transactionId']) \n",
    "\n",
    "plt.title(\"Scatter plot of the number of orders by users.\\n\", fontsize=15)\n",
    "plt.ylabel(\"Number of purchases\")\n",
    "plt.xlabel(\"Customers\")\n",
    "plt.show()"
   ]
  },
  {
   "cell_type": "markdown",
   "metadata": {
    "pycharm": {
     "name": "#%% md\n"
    }
   },
   "source": [
    "Most people buy a little. No sharp outbursts. "
   ]
  },
  {
   "cell_type": "markdown",
   "metadata": {
    "pycharm": {
     "name": "#%% md\n"
    }
   },
   "source": [
    "#### Calculate the 95th and 99th percentiles of orders per user. Select a boundary to identify anomalous users."
   ]
  },
  {
   "cell_type": "code",
   "execution_count": 87,
   "metadata": {
    "pycharm": {
     "name": "#%%\n"
    }
   },
   "outputs": [
    {
     "name": "stdout",
     "output_type": "stream",
     "text": [
      "Average orders per user: 1.04\n"
     ]
    }
   ],
   "source": [
    "print(\"Average orders per user:\",\n",
    "    round(orders_count['transactionId'].mean(),2))"
   ]
  },
  {
   "cell_type": "code",
   "execution_count": 88,
   "metadata": {
    "pycharm": {
     "name": "#%%\n"
    }
   },
   "outputs": [
    {
     "name": "stdout",
     "output_type": "stream",
     "text": [
      "95, 99 percentiles of orders per user: [1. 2.]\n"
     ]
    }
   ],
   "source": [
    "print(\"95, 99 percentiles of orders per user:\",\n",
    "    np.percentile(orders_count['transactionId'], [95, 99]))"
   ]
  },
  {
   "cell_type": "code",
   "execution_count": 89,
   "metadata": {
    "pycharm": {
     "name": "#%%\n"
    }
   },
   "outputs": [
    {
     "name": "stdout",
     "output_type": "stream",
     "text": [
      "99 percentile includes:  0.7194244604316548 percent\n",
      "95 percentile includes:  3.6998972250770814 percent\n"
     ]
    }
   ],
   "source": [
    "# let's see how many such people\n",
    "print(\"99 percentile includes: \", len(orders_count[orders_count['transactionId'] > 2])/len(orders_count) * 100, \"percent\")\n",
    "print(\"95 percentile includes: \", len(orders_count[orders_count['transactionId'] > 1])/len(orders_count)* 100, 'percent')"
   ]
  },
  {
   "cell_type": "markdown",
   "metadata": {
    "pycharm": {
     "name": "#%% md\n"
    }
   },
   "source": [
    "No anomalous users found"
   ]
  },
  {
   "cell_type": "markdown",
   "metadata": {
    "pycharm": {
     "name": "#%% md\n"
    }
   },
   "source": [
    "#### Plot a scatter plot of order values"
   ]
  },
  {
   "cell_type": "code",
   "execution_count": 90,
   "metadata": {
    "pycharm": {
     "name": "#%%\n"
    }
   },
   "outputs": [
    {
     "data": {
      "image/png": "[encoded data removed]",
      "text/plain": [
       "<Figure size 1080x360 with 1 Axes>"
      ]
     },
     "metadata": {},
     "output_type": "display_data"
    }
   ],
   "source": [
    "x_values = pd.Series(range(0,len(orders)))\n",
    "plt.figure(figsize = (15,5)) \n",
    "\n",
    "plt.scatter(x_values, orders['revenue']) \n",
    "\n",
    "plt.title(\"Точечный график стоимостей заказов.\\n\", fontsize=15)\n",
    "plt.ylabel(\"\")\n",
    "plt.xlabel(\"\")\n",
    "plt.show()"
   ]
  },
  {
   "cell_type": "markdown",
   "metadata": {
    "pycharm": {
     "name": "#%% md\n"
    }
   },
   "source": [
    "There is one, but prohibitively expensive order. There are also smaller orders."
   ]
  },
  {
   "cell_type": "markdown",
   "metadata": {
    "pycharm": {
     "name": "#%% md\n"
    }
   },
   "source": [
    "#### Посчитайте 95-й и 99-й перцентили стоимости заказов. Выберите границу для определения аномальных заказов."
   ]
  },
  {
   "cell_type": "code",
   "execution_count": 91,
   "metadata": {
    "pycharm": {
     "name": "#%%\n"
    }
   },
   "outputs": [
    {
     "name": "stdout",
     "output_type": "stream",
     "text": [
      "95, 99 персентили стоимости заказов: [26785. 53904.]\n"
     ]
    }
   ],
   "source": [
    "print(\"95, 99 персентили стоимости заказов:\",\n",
    "    np.percentile(orders['revenue'], [95, 99])) "
   ]
  },
  {
   "cell_type": "code",
   "execution_count": 92,
   "metadata": {
    "pycharm": {
     "name": "#%%\n"
    }
   },
   "outputs": [
    {
     "name": "stdout",
     "output_type": "stream",
     "text": [
      "В 99 персинтиль входит :  1.1811023622047243 процентов\n",
      "В 95 персинтиль входит :  5.019685039370079 процентов\n"
     ]
    }
   ],
   "source": [
    "# посмотрим сколько таких людей\n",
    "print(\"В 99 персинтиль входит : \", len(orders[orders['revenue'] >= 53904])/len(orders) * 100, \"процентов\")\n",
    "print(\"В 95 персинтиль входит : \", len(orders[orders['revenue'] >= 26785])/len(orders)* 100, 'процентов')"
   ]
  },
  {
   "cell_type": "markdown",
   "metadata": {
    "pycharm": {
     "name": "#%% md\n"
    }
   },
   "source": [
    "We will consider anomalous users with an order amount of 26785 or more.\n",
    "This is the 95th percentile of orders per user"
   ]
  },
  {
   "cell_type": "markdown",
   "metadata": {
    "pycharm": {
     "name": "#%% md\n"
    }
   },
   "source": [
    "#### Statistical significance of differences in conversion between groups on raw data."
   ]
  },
  {
   "cell_type": "markdown",
   "metadata": {
    "pycharm": {
     "name": "#%% md\n"
    }
   },
   "source": [
    "We will use Mann-Whitney.\n",
    "\n",
    "    Null hypothesis H0={the level of the feature in the second sample is not lower than the level of the feature in the first sample};\n",
    "    The alternative hypothesis is H1={the level of the feature in the second sample is lower than the level of the feature in the first sample}.\n",
    "    In this case, the first sample is considered to be the one where the value of the attribute is greater.\n",
    "\n",
    "Hence Null Hypothesis:\n",
    "* The level of the trait in group A is not lower than the level of the trait in group B.<br>"
   ]
  },
  {
   "cell_type": "code",
   "execution_count": 93,
   "metadata": {
    "pycharm": {
     "name": "#%%\n"
    }
   },
   "outputs": [],
   "source": [
    "conversion_data.columns = ['date','group', 'buyers','visitors']\n",
    "conversion_data['not_buy'] = conversion_data['visitors'] - conversion_data['buyers']\n",
    "conversion_data['conversion'] = conversion_data['buyers'] / conversion_data['visitors'] "
   ]
  },
  {
   "cell_type": "code",
   "execution_count": 94,
   "metadata": {
    "pycharm": {
     "name": "#%%\n"
    },
    "scrolled": true
   },
   "outputs": [
    {
     "name": "stdout",
     "output_type": "stream",
     "text": [
      "p-value: 0.397\n",
      "Conversion difference: 16.5%\n",
      "Failed to reject null hypothesis\n"
     ]
    }
   ],
   "source": [
    "alpha = 0.05\n",
    "pvalue = stats.mannwhitneyu(conversion_data[conversion_data['group']=='A']['not_buy'], conversion_data[conversion_data['group']=='B']['not_buy'])[1]\n",
    "\n",
    "print(\"p-value:\",'{0:.3f}'.format(pvalue))\n",
    "print(\"Conversion difference:\",'{0:.1f}%'.format(100 * (conversion_data[conversion_data['group']=='B']['conversion'].mean()/conversion_data[conversion_data ['group']=='A']['conversion'].mean()-1)))\n",
    "\n",
    "if(pvalue<alpha):\n",
    "    print(\"We reject the null hypothesis, which means that the level of the conversion feature in sample A is lower than the level of the feature in sample B\")\n",
    "else:\n",
    "    print(\"Failed to reject null hypothesis\")"
   ]
  },
  {
   "cell_type": "markdown",
   "metadata": {
    "pycharm": {
     "name": "#%% md\n"
    }
   },
   "source": [
    "#### Statistical significance of differences in the average order receipt between groups according to \"raw\" data."
   ]
  },
  {
   "cell_type": "code",
   "execution_count": 95,
   "metadata": {
    "pycharm": {
     "name": "#%%\n"
    },
    "scrolled": true
   },
   "outputs": [
    {
     "name": "stdout",
     "output_type": "stream",
     "text": [
      "p-value: 0.415\n",
      "Difference of average bills: 28.7%\n",
      "Failed to reject null hypothesis\n"
     ]
    }
   ],
   "source": [
    "alpha = 0.05\n",
    "pvalue = stats.mannwhitneyu(orders[orders['group']=='A']['revenue'], orders[orders['group']=='B']['revenue'])[1]\n",
    "\n",
    "print(\"p-value:\",'{0:.3f}'.format(pvalue))\n",
    "print(\"Difference of average bills:\",'{0:.1f}%'.format(100 * (orders[orders['group']=='B']['revenue'].mean()/orders[ orders['group']=='A']['revenue'].mean()-1)))\n",
    "\n",
    "if(pvalue<alpha):\n",
    "    print(\"We reject the null hypothesis, it means that the level of the revenue feature in sample A is lower than the level of the feature in sample B\")\n",
    "else:\n",
    "    print(\"Failed to reject null hypothesis\")"
   ]
  },
  {
   "cell_type": "markdown",
   "metadata": {
    "pycharm": {
     "name": "#%% md\n"
    }
   },
   "source": [
    "#### Statistical significance of differences in conversion between groups based on \"cleaned\" data."
   ]
  },
  {
   "cell_type": "code",
   "execution_count": 96,
   "metadata": {
    "pycharm": {
     "name": "#%%\n"
    }
   },
   "outputs": [
    {
     "name": "stdout",
     "output_type": "stream",
     "text": [
      "len(orders): 1016 len(orders_cl): 965\n"
     ]
    }
   ],
   "source": [
    "# cleane our data\n",
    "orders_cl = orders[orders['revenue'] < 26785]\n",
    "\n",
    "print(\"len(orders):\",len(orders),\"len(orders_cl):\",len(orders_cl))"
   ]
  },
  {
   "cell_type": "code",
   "execution_count": 97,
   "metadata": {
    "pycharm": {
     "name": "#%%\n"
    }
   },
   "outputs": [],
   "source": [
    "# recalculating the data.\n",
    "output = datesGroups.apply(\n",
    "    lambda x: orders_cl[\n",
    "        np.logical_and(orders_cl['date'] == x['date'], orders_cl['group'] == x['group'])\n",
    "    ].agg({'date': 'max','group': 'max','revenue': 'nunique'}),\n",
    "    axis=1\n",
    ").sort_values(by=['date', 'group'])\n",
    "\n",
    "conversion_data = output.merge(visitors,  on = ['date', 'group'])\n",
    "\n",
    "conversion_data.columns = ['date','group', 'buyers','visitors']\n",
    "conversion_data['not_buy'] = conversion_data['visitors'] - conversion_data['buyers']\n",
    "conversion_data['conversion'] = conversion_data['buyers'] / conversion_data['visitors'] "
   ]
  },
  {
   "cell_type": "code",
   "execution_count": 98,
   "metadata": {
    "pycharm": {
     "name": "#%%\n"
    }
   },
   "outputs": [
    {
     "name": "stdout",
     "output_type": "stream",
     "text": [
      "p-value: 0.397\n",
      "Conversion: 2.6%\n",
      "Conversion difference: 15.9%\n",
      "Failed to reject null hypothesis\n"
     ]
    }
   ],
   "source": [
    "alpha = 0.05\n",
    "pvalue = stats.mannwhitneyu(conversion_data[conversion_data['group']=='A']['not_buy'], conversion_data[conversion_data['group']=='B']['not_buy'])[1]\n",
    "\n",
    "print(\"p-value:\",'{0:.3f}'.format(pvalue))\n",
    "print(\"Conversion:\",'{0:.1f}%'.format(100 * conversion_data['conversion'].mean()))\n",
    "print(\"Conversion difference:\",'{0:.1f}%'.format(100 * (conversion_data[conversion_data['group']=='B']['conversion'].mean()/conversion_data[conversion_data ['group']=='A']['conversion'].mean()-1)))\n",
    "\n",
    "if(pvalue<alpha):\n",
    "    print(\"We reject the null hypothesis, which means that the level of the conversion feature in sample A is lower than the level of the feature in sample B\")\n",
    "else:\n",
    "    print(\"Failed to reject null hypothesis\")"
   ]
  },
  {
   "cell_type": "markdown",
   "metadata": {
    "pycharm": {
     "name": "#%% md\n"
    }
   },
   "source": [
    "#### Calculate the statistical significance of the differences in the average order receipt between groups according to the \"cleaned\" data. "
   ]
  },
  {
   "cell_type": "code",
   "execution_count": 100,
   "metadata": {
    "pycharm": {
     "name": "#%%\n"
    }
   },
   "outputs": [
    {
     "name": "stdout",
     "output_type": "stream",
     "text": [
      "p-value: 0.349\n",
      "Average check: 5035\n",
      "Difference of average checks: -5.9%\n",
      "Failed to reject null hypothesis\n"
     ]
    }
   ],
   "source": [
    "alpha = 0.05\n",
    "pvalue = stats.mannwhitneyu(orders_cl[orders_cl['group']=='A']['revenue'], orders_cl[orders_cl['group']=='B']['revenue'])[1]\n",
    "\n",
    "print(\"p-value:\",'{0:.3f}'.format(pvalue))\n",
    "print(\"Average check:\", round(orders_cl['revenue'].mean()))\n",
    "print(\"Difference of average checks:\",'{0:.1f}%'.format(100 * ((orders_cl[orders_cl['group']=='B']['revenue'].mean()/orders_cl [orders_cl['group']=='A']['revenue'].mean())-1)))\n",
    "\n",
    "if(pvalue<alpha):\n",
    "    print(\"We reject the null hypothesis, it means that the level of the revenue feature in sample A is lower than the level of the feature in sample B\")\n",
    "else:\n",
    "    print(\"Failed to reject null hypothesis\")"
   ]
  },
  {
   "cell_type": "markdown",
   "metadata": {
    "pycharm": {
     "name": "#%% md\n"
    }
   },
   "source": [
    "### Conclusions\n",
    "\n",
    "On average, a user makes one order per month 1 in the amount of about 5 thousand rubles.\n",
    "The conversion from visitors to purchases is 2.6%.\n",
    "\n",
    "Representatives of group B have a different conversion rate than A. Namely, 16.5% more.\n",
    "\n",
    "However, we cannot consider this difference to be statistically significant.\n",
    "\n",
    "The difference in average checks between the groups is not large (about 5%)."
   ]
  },
  {
   "cell_type": "markdown",
   "metadata": {
    "pycharm": {
     "name": "#%% md\n"
    }
   },
   "source": [
    "## Decision based on test results\n",
    "<a name=\"3.\"></a>\n",
    "[<font size=\"2\">(to content)</font>](#1common.)"
   ]
  },
  {
   "cell_type": "markdown",
   "metadata": {
    "pycharm": {
     "name": "#%% md\n"
    }
   },
   "source": [
    "***I believe that it is necessary to stop the test, fix the absence of differences between the groups.***\n",
    "\n",
    "We did not just initially designate the data for 30 days for the test. This time should have been enough to complete the test.\n",
    "\n",
    "Probably our hypothesis is not powerful enough or there are other important factors that we do not take into account.\n",
    "\n",
    "Therefore, the most reasonable option is to revise the hypothesis and try to improve it analytically.\n",
    "It is possible to hold a focus group to understand the insights. For example: Increase the size of the discount or expand the target audience."
   ]
  },
  {
   "cell_type": "code",
   "execution_count": null,
   "metadata": {},
   "outputs": [],
   "source": []
  }
 ],
 "metadata": {
  "ExecuteTimeLog": [
   {
    "duration": 1505,
    "start_time": "2021-11-03T20:41:41.396Z"
   },
   {
    "duration": 4,
    "start_time": "2021-11-03T20:41:42.904Z"
   },
   {
    "duration": 17,
    "start_time": "2021-11-03T20:41:42.912Z"
   },
   {
    "duration": 1156,
    "start_time": "2021-11-03T20:41:42.932Z"
   },
   {
    "duration": 423,
    "start_time": "2021-11-03T20:41:44.091Z"
   },
   {
    "duration": 65,
    "start_time": "2021-11-03T20:41:44.522Z"
   },
   {
    "duration": 69,
    "start_time": "2021-11-03T20:41:44.589Z"
   },
   {
    "duration": 140,
    "start_time": "2021-11-03T20:41:44.662Z"
   },
   {
    "duration": 347,
    "start_time": "2021-11-03T20:41:44.805Z"
   },
   {
    "duration": 7,
    "start_time": "2021-11-03T20:41:45.154Z"
   },
   {
    "duration": 270,
    "start_time": "2021-11-03T20:41:45.163Z"
   },
   {
    "duration": 14,
    "start_time": "2021-11-03T20:41:45.435Z"
   },
   {
    "duration": 545,
    "start_time": "2021-11-03T20:41:45.452Z"
   },
   {
    "duration": 25,
    "start_time": "2021-11-03T20:41:46.000Z"
   },
   {
    "duration": 65,
    "start_time": "2021-11-03T20:41:46.028Z"
   },
   {
    "duration": 141,
    "start_time": "2021-11-03T20:41:46.095Z"
   },
   {
    "duration": 13,
    "start_time": "2021-11-03T20:41:46.239Z"
   },
   {
    "duration": 225,
    "start_time": "2021-11-03T20:41:46.255Z"
   },
   {
    "duration": 170,
    "start_time": "2021-11-03T20:41:46.483Z"
   },
   {
    "duration": 1153,
    "start_time": "2021-11-03T20:41:46.655Z"
   },
   {
    "duration": 61,
    "start_time": "2021-11-03T20:41:47.811Z"
   },
   {
    "duration": 7,
    "start_time": "2021-11-03T20:41:47.875Z"
   },
   {
    "duration": 39,
    "start_time": "2021-11-03T20:41:47.887Z"
   },
   {
    "duration": 169,
    "start_time": "2021-11-03T20:41:47.929Z"
   },
   {
    "duration": 483,
    "start_time": "2021-11-03T20:41:48.100Z"
   },
   {
    "duration": 7,
    "start_time": "2021-11-03T20:41:48.585Z"
   },
   {
    "duration": 28,
    "start_time": "2021-11-03T20:41:48.594Z"
   },
   {
    "duration": 161,
    "start_time": "2021-11-03T20:41:48.625Z"
   },
   {
    "duration": 5,
    "start_time": "2021-11-03T20:41:48.788Z"
   },
   {
    "duration": 8,
    "start_time": "2021-11-03T20:41:48.795Z"
   },
   {
    "duration": 33,
    "start_time": "2021-11-03T20:41:48.805Z"
   },
   {
    "duration": 20,
    "start_time": "2021-11-03T20:41:48.840Z"
   },
   {
    "duration": 19,
    "start_time": "2021-11-03T20:41:48.862Z"
   },
   {
    "duration": 77,
    "start_time": "2021-11-03T20:41:48.883Z"
   },
   {
    "duration": 19,
    "start_time": "2021-11-03T20:41:48.962Z"
   },
   {
    "duration": 78,
    "start_time": "2021-11-03T20:41:48.984Z"
   },
   {
    "duration": 15,
    "start_time": "2021-11-03T20:41:49.064Z"
   },
   {
    "duration": 9,
    "start_time": "2021-11-03T20:41:49.081Z"
   },
   {
    "duration": 5,
    "start_time": "2021-11-03T20:41:49.123Z"
   },
   {
    "duration": 27,
    "start_time": "2021-11-03T20:41:49.131Z"
   },
   {
    "duration": 387,
    "start_time": "2021-11-03T20:41:49.160Z"
   },
   {
    "duration": 3,
    "start_time": "2021-11-03T20:41:49.549Z"
   },
   {
    "duration": 207,
    "start_time": "2021-11-03T20:41:49.555Z"
   },
   {
    "duration": 30,
    "start_time": "2021-11-03T20:41:49.764Z"
   },
   {
    "duration": 463,
    "start_time": "2021-11-03T20:41:49.796Z"
   },
   {
    "duration": 4,
    "start_time": "2021-11-03T20:41:50.262Z"
   },
   {
    "duration": 12,
    "start_time": "2021-11-03T20:41:50.268Z"
   },
   {
    "duration": 785,
    "start_time": "2021-11-03T20:41:50.282Z"
   },
   {
    "duration": 406,
    "start_time": "2021-11-03T20:41:51.069Z"
   },
   {
    "duration": 10,
    "start_time": "2021-11-03T20:41:51.477Z"
   },
   {
    "duration": 91,
    "start_time": "2021-11-03T21:16:36.671Z"
   },
   {
    "duration": 57,
    "start_time": "2021-11-03T21:16:39.930Z"
   },
   {
    "duration": 55,
    "start_time": "2021-11-03T21:16:44.817Z"
   },
   {
    "duration": 1599,
    "start_time": "2021-11-18T15:56:02.951Z"
   },
   {
    "duration": 510,
    "start_time": "2021-11-18T15:56:04.553Z"
   },
   {
    "duration": -836,
    "start_time": "2021-11-18T15:56:05.903Z"
   },
   {
    "duration": -838,
    "start_time": "2021-11-18T15:56:05.907Z"
   },
   {
    "duration": -840,
    "start_time": "2021-11-18T15:56:05.910Z"
   },
   {
    "duration": -842,
    "start_time": "2021-11-18T15:56:05.913Z"
   },
   {
    "duration": -842,
    "start_time": "2021-11-18T15:56:05.915Z"
   },
   {
    "duration": -843,
    "start_time": "2021-11-18T15:56:05.917Z"
   },
   {
    "duration": -862,
    "start_time": "2021-11-18T15:56:05.937Z"
   },
   {
    "duration": -862,
    "start_time": "2021-11-18T15:56:05.939Z"
   },
   {
    "duration": -863,
    "start_time": "2021-11-18T15:56:05.941Z"
   },
   {
    "duration": -863,
    "start_time": "2021-11-18T15:56:05.943Z"
   },
   {
    "duration": -863,
    "start_time": "2021-11-18T15:56:05.945Z"
   },
   {
    "duration": -864,
    "start_time": "2021-11-18T15:56:05.947Z"
   },
   {
    "duration": -863,
    "start_time": "2021-11-18T15:56:05.948Z"
   },
   {
    "duration": -864,
    "start_time": "2021-11-18T15:56:05.950Z"
   },
   {
    "duration": -864,
    "start_time": "2021-11-18T15:56:05.952Z"
   },
   {
    "duration": -864,
    "start_time": "2021-11-18T15:56:05.953Z"
   },
   {
    "duration": -865,
    "start_time": "2021-11-18T15:56:05.955Z"
   },
   {
    "duration": -866,
    "start_time": "2021-11-18T15:56:05.958Z"
   },
   {
    "duration": -925,
    "start_time": "2021-11-18T15:56:06.018Z"
   },
   {
    "duration": -927,
    "start_time": "2021-11-18T15:56:06.022Z"
   },
   {
    "duration": -930,
    "start_time": "2021-11-18T15:56:06.026Z"
   },
   {
    "duration": -931,
    "start_time": "2021-11-18T15:56:06.029Z"
   },
   {
    "duration": -931,
    "start_time": "2021-11-18T15:56:06.030Z"
   },
   {
    "duration": -933,
    "start_time": "2021-11-18T15:56:06.034Z"
   },
   {
    "duration": -934,
    "start_time": "2021-11-18T15:56:06.037Z"
   },
   {
    "duration": -938,
    "start_time": "2021-11-18T15:56:06.042Z"
   },
   {
    "duration": -938,
    "start_time": "2021-11-18T15:56:06.044Z"
   },
   {
    "duration": -940,
    "start_time": "2021-11-18T15:56:06.047Z"
   },
   {
    "duration": -941,
    "start_time": "2021-11-18T15:56:06.051Z"
   },
   {
    "duration": -943,
    "start_time": "2021-11-18T15:56:06.055Z"
   },
   {
    "duration": -943,
    "start_time": "2021-11-18T15:56:06.057Z"
   },
   {
    "duration": -944,
    "start_time": "2021-11-18T15:56:06.059Z"
   },
   {
    "duration": -946,
    "start_time": "2021-11-18T15:56:06.063Z"
   },
   {
    "duration": 4,
    "start_time": "2021-11-18T16:06:06.176Z"
   },
   {
    "duration": 8,
    "start_time": "2021-11-18T16:06:06.520Z"
   },
   {
    "duration": 57,
    "start_time": "2021-11-18T16:06:08.235Z"
   },
   {
    "duration": 27,
    "start_time": "2021-11-18T16:06:08.535Z"
   },
   {
    "duration": 58,
    "start_time": "2021-11-18T16:06:09.130Z"
   },
   {
    "duration": 42,
    "start_time": "2021-11-18T16:06:09.631Z"
   },
   {
    "duration": 10,
    "start_time": "2021-11-18T16:06:10.049Z"
   },
   {
    "duration": 24,
    "start_time": "2021-11-18T16:06:10.671Z"
   },
   {
    "duration": 8,
    "start_time": "2021-11-18T16:06:10.874Z"
   },
   {
    "duration": 19,
    "start_time": "2021-11-18T16:06:11.296Z"
   },
   {
    "duration": 8,
    "start_time": "2021-11-18T16:06:11.516Z"
   },
   {
    "duration": 12,
    "start_time": "2021-11-18T16:06:12.197Z"
   },
   {
    "duration": 969,
    "start_time": "2021-11-18T16:06:18.329Z"
   },
   {
    "duration": 404,
    "start_time": "2021-11-18T16:06:23.670Z"
   },
   {
    "duration": 1552,
    "start_time": "2021-11-18T16:06:24.081Z"
   },
   {
    "duration": -902,
    "start_time": "2021-11-18T16:06:26.538Z"
   },
   {
    "duration": 425,
    "start_time": "2021-11-18T16:06:25.724Z"
   },
   {
    "duration": 88,
    "start_time": "2021-11-18T16:06:26.152Z"
   },
   {
    "duration": 1259,
    "start_time": "2021-11-18T16:06:26.244Z"
   },
   {
    "duration": 642,
    "start_time": "2021-11-18T16:06:27.507Z"
   },
   {
    "duration": 724,
    "start_time": "2021-11-18T16:06:28.153Z"
   },
   {
    "duration": 7,
    "start_time": "2021-11-18T16:06:28.880Z"
   },
   {
    "duration": 14,
    "start_time": "2021-11-18T16:06:28.890Z"
   },
   {
    "duration": 517,
    "start_time": "2021-11-18T16:06:28.971Z"
   },
   {
    "duration": 7,
    "start_time": "2021-11-18T16:06:29.624Z"
   },
   {
    "duration": 10,
    "start_time": "2021-11-18T16:06:29.916Z"
   },
   {
    "duration": 7,
    "start_time": "2021-11-18T16:06:30.916Z"
   },
   {
    "duration": 17,
    "start_time": "2021-11-18T16:06:31.240Z"
   },
   {
    "duration": 16,
    "start_time": "2021-11-18T16:06:31.847Z"
   },
   {
    "duration": 13,
    "start_time": "2021-11-18T16:06:32.458Z"
   },
   {
    "duration": 318,
    "start_time": "2021-11-18T16:06:32.771Z"
   },
   {
    "duration": 17,
    "start_time": "2021-11-18T16:06:33.091Z"
   },
   {
    "duration": 17,
    "start_time": "2021-11-18T16:06:33.675Z"
   },
   {
    "duration": 475,
    "start_time": "2021-11-18T16:30:45.402Z"
   },
   {
    "duration": 124,
    "start_time": "2021-11-19T07:33:51.453Z"
   },
   {
    "duration": 3796,
    "start_time": "2021-11-19T07:34:10.046Z"
   },
   {
    "duration": 1166,
    "start_time": "2021-11-19T07:34:13.844Z"
   },
   {
    "duration": 4,
    "start_time": "2021-11-19T07:34:15.012Z"
   },
   {
    "duration": 3,
    "start_time": "2021-11-19T07:34:17.248Z"
   },
   {
    "duration": 5,
    "start_time": "2021-11-19T07:34:17.821Z"
   },
   {
    "duration": 158,
    "start_time": "2021-11-19T07:34:20.438Z"
   },
   {
    "duration": 17,
    "start_time": "2021-11-19T07:34:21.738Z"
   },
   {
    "duration": 139,
    "start_time": "2021-11-19T07:37:04.425Z"
   },
   {
    "duration": 632,
    "start_time": "2021-11-19T07:41:10.262Z"
   },
   {
    "duration": 3013,
    "start_time": "2021-11-19T07:41:07.883Z"
   },
   {
    "duration": 121,
    "start_time": "2021-11-19T07:41:34.154Z"
   },
   {
    "duration": 2771,
    "start_time": "2021-11-19T07:42:05.264Z"
   },
   {
    "duration": 4,
    "start_time": "2021-11-19T07:42:08.038Z"
   },
   {
    "duration": 11,
    "start_time": "2021-11-19T07:42:08.045Z"
   },
   {
    "duration": 4,
    "start_time": "2021-11-19T07:42:08.059Z"
   },
   {
    "duration": 7,
    "start_time": "2021-11-19T07:42:08.065Z"
   },
   {
    "duration": 91,
    "start_time": "2021-11-19T07:42:08.073Z"
   },
   {
    "duration": 15,
    "start_time": "2021-11-19T07:42:08.166Z"
   },
   {
    "duration": 40,
    "start_time": "2021-11-19T07:42:08.182Z"
   },
   {
    "duration": 26,
    "start_time": "2021-11-19T07:42:08.225Z"
   },
   {
    "duration": 7,
    "start_time": "2021-11-19T07:42:08.252Z"
   },
   {
    "duration": 17,
    "start_time": "2021-11-19T07:42:08.260Z"
   },
   {
    "duration": 30,
    "start_time": "2021-11-19T07:42:08.279Z"
   },
   {
    "duration": 12,
    "start_time": "2021-11-19T07:42:08.311Z"
   },
   {
    "duration": 8,
    "start_time": "2021-11-19T07:42:08.325Z"
   },
   {
    "duration": 12,
    "start_time": "2021-11-19T07:42:08.334Z"
   },
   {
    "duration": 128,
    "start_time": "2021-11-19T07:42:08.348Z"
   },
   {
    "duration": 2946,
    "start_time": "2021-11-19T07:42:05.532Z"
   },
   {
    "duration": 2942,
    "start_time": "2021-11-19T07:42:05.537Z"
   },
   {
    "duration": 2935,
    "start_time": "2021-11-19T07:42:05.545Z"
   },
   {
    "duration": 185,
    "start_time": "2021-11-19T07:48:37.537Z"
   },
   {
    "duration": 2919,
    "start_time": "2021-11-19T08:42:06.794Z"
   },
   {
    "duration": 1198,
    "start_time": "2021-11-19T08:42:09.715Z"
   },
   {
    "duration": 4,
    "start_time": "2021-11-19T08:42:10.915Z"
   },
   {
    "duration": 12,
    "start_time": "2021-11-19T08:42:10.922Z"
   },
   {
    "duration": 8,
    "start_time": "2021-11-19T08:42:10.936Z"
   },
   {
    "duration": 85,
    "start_time": "2021-11-19T08:42:10.946Z"
   },
   {
    "duration": 17,
    "start_time": "2021-11-19T08:42:11.033Z"
   },
   {
    "duration": 43,
    "start_time": "2021-11-19T08:42:11.054Z"
   },
   {
    "duration": 28,
    "start_time": "2021-11-19T08:42:11.106Z"
   },
   {
    "duration": 7,
    "start_time": "2021-11-19T08:42:11.136Z"
   },
   {
    "duration": 28,
    "start_time": "2021-11-19T08:42:11.145Z"
   },
   {
    "duration": 6,
    "start_time": "2021-11-19T08:42:11.175Z"
   },
   {
    "duration": 13,
    "start_time": "2021-11-19T08:42:11.207Z"
   },
   {
    "duration": 7,
    "start_time": "2021-11-19T08:42:11.222Z"
   },
   {
    "duration": 14,
    "start_time": "2021-11-19T08:42:11.230Z"
   },
   {
    "duration": 136,
    "start_time": "2021-11-19T08:42:11.246Z"
   },
   {
    "duration": 4015,
    "start_time": "2021-11-19T08:42:07.370Z"
   },
   {
    "duration": 4011,
    "start_time": "2021-11-19T08:42:07.375Z"
   },
   {
    "duration": 4008,
    "start_time": "2021-11-19T08:42:07.380Z"
   },
   {
    "duration": 4005,
    "start_time": "2021-11-19T08:42:07.384Z"
   },
   {
    "duration": 4001,
    "start_time": "2021-11-19T08:42:07.389Z"
   },
   {
    "duration": 3998,
    "start_time": "2021-11-19T08:42:07.393Z"
   },
   {
    "duration": 3993,
    "start_time": "2021-11-19T08:42:07.399Z"
   },
   {
    "duration": 3989,
    "start_time": "2021-11-19T08:42:07.404Z"
   },
   {
    "duration": 3984,
    "start_time": "2021-11-19T08:42:07.410Z"
   },
   {
    "duration": 3980,
    "start_time": "2021-11-19T08:42:07.415Z"
   },
   {
    "duration": 3973,
    "start_time": "2021-11-19T08:42:07.422Z"
   },
   {
    "duration": 3969,
    "start_time": "2021-11-19T08:42:07.427Z"
   },
   {
    "duration": 3965,
    "start_time": "2021-11-19T08:42:07.432Z"
   },
   {
    "duration": 3959,
    "start_time": "2021-11-19T08:42:07.439Z"
   },
   {
    "duration": 3955,
    "start_time": "2021-11-19T08:42:07.444Z"
   },
   {
    "duration": 3951,
    "start_time": "2021-11-19T08:42:07.449Z"
   },
   {
    "duration": 3947,
    "start_time": "2021-11-19T08:42:07.454Z"
   },
   {
    "duration": 3944,
    "start_time": "2021-11-19T08:42:07.458Z"
   },
   {
    "duration": 3940,
    "start_time": "2021-11-19T08:42:07.463Z"
   },
   {
    "duration": 3924,
    "start_time": "2021-11-19T08:42:07.480Z"
   },
   {
    "duration": 3919,
    "start_time": "2021-11-19T08:42:07.486Z"
   },
   {
    "duration": 3915,
    "start_time": "2021-11-19T08:42:07.491Z"
   },
   {
    "duration": 3911,
    "start_time": "2021-11-19T08:42:07.496Z"
   },
   {
    "duration": 2806,
    "start_time": "2021-11-19T12:06:11.854Z"
   },
   {
    "duration": 1255,
    "start_time": "2021-11-19T12:06:14.662Z"
   },
   {
    "duration": 4,
    "start_time": "2021-11-19T12:06:15.919Z"
   },
   {
    "duration": 5,
    "start_time": "2021-11-19T12:06:15.926Z"
   },
   {
    "duration": 8,
    "start_time": "2021-11-19T12:06:15.932Z"
   },
   {
    "duration": 9,
    "start_time": "2021-11-19T12:06:15.942Z"
   },
   {
    "duration": 82,
    "start_time": "2021-11-19T12:06:15.952Z"
   },
   {
    "duration": 17,
    "start_time": "2021-11-19T12:06:16.038Z"
   },
   {
    "duration": 42,
    "start_time": "2021-11-19T12:06:16.058Z"
   },
   {
    "duration": 29,
    "start_time": "2021-11-19T12:06:16.106Z"
   },
   {
    "duration": 6,
    "start_time": "2021-11-19T12:06:16.137Z"
   },
   {
    "duration": 16,
    "start_time": "2021-11-19T12:06:16.145Z"
   },
   {
    "duration": 6,
    "start_time": "2021-11-19T12:06:16.163Z"
   },
   {
    "duration": 45,
    "start_time": "2021-11-19T12:06:16.171Z"
   },
   {
    "duration": 12,
    "start_time": "2021-11-19T12:06:16.218Z"
   },
   {
    "duration": 7,
    "start_time": "2021-11-19T12:06:16.232Z"
   },
   {
    "duration": 17,
    "start_time": "2021-11-19T12:06:16.240Z"
   },
   {
    "duration": 14,
    "start_time": "2021-11-19T12:06:16.259Z"
   },
   {
    "duration": 37,
    "start_time": "2021-11-19T12:06:16.275Z"
   },
   {
    "duration": 939,
    "start_time": "2021-11-19T12:06:16.314Z"
   },
   {
    "duration": 172,
    "start_time": "2021-11-19T12:06:17.255Z"
   },
   {
    "duration": 1239,
    "start_time": "2021-11-19T12:06:17.429Z"
   },
   {
    "duration": 465,
    "start_time": "2021-11-19T12:06:18.671Z"
   },
   {
    "duration": 182,
    "start_time": "2021-11-19T12:06:19.138Z"
   },
   {
    "duration": 33,
    "start_time": "2021-11-19T12:06:19.322Z"
   },
   {
    "duration": 898,
    "start_time": "2021-11-19T12:06:19.357Z"
   },
   {
    "duration": 494,
    "start_time": "2021-11-19T12:06:20.257Z"
   },
   {
    "duration": 415,
    "start_time": "2021-11-19T12:06:20.753Z"
   },
   {
    "duration": 4,
    "start_time": "2021-11-19T12:06:21.171Z"
   },
   {
    "duration": 19,
    "start_time": "2021-11-19T12:06:21.177Z"
   },
   {
    "duration": 19,
    "start_time": "2021-11-19T12:06:21.198Z"
   },
   {
    "duration": 448,
    "start_time": "2021-11-19T12:06:21.219Z"
   },
   {
    "duration": 5,
    "start_time": "2021-11-19T12:06:21.669Z"
   },
   {
    "duration": 25,
    "start_time": "2021-11-19T12:06:21.676Z"
   },
   {
    "duration": 45,
    "start_time": "2021-11-19T12:06:21.702Z"
   },
   {
    "duration": 16,
    "start_time": "2021-11-19T12:06:21.749Z"
   },
   {
    "duration": 26,
    "start_time": "2021-11-19T12:06:21.767Z"
   },
   {
    "duration": 7,
    "start_time": "2021-11-19T12:06:21.795Z"
   },
   {
    "duration": 176,
    "start_time": "2021-11-19T12:06:21.803Z"
   },
   {
    "duration": 12,
    "start_time": "2021-11-19T12:06:21.981Z"
   },
   {
    "duration": 24,
    "start_time": "2021-11-19T12:06:21.994Z"
   },
   {
    "duration": 5176,
    "start_time": "2021-11-19T15:58:16.780Z"
   },
   {
    "duration": 1466,
    "start_time": "2021-11-19T15:58:21.959Z"
   },
   {
    "duration": 5,
    "start_time": "2021-11-19T15:58:23.428Z"
   },
   {
    "duration": 8,
    "start_time": "2021-11-19T15:58:23.436Z"
   },
   {
    "duration": 7,
    "start_time": "2021-11-19T15:58:23.447Z"
   },
   {
    "duration": 8,
    "start_time": "2021-11-19T15:58:23.468Z"
   },
   {
    "duration": 72,
    "start_time": "2021-11-19T15:58:23.479Z"
   },
   {
    "duration": 24,
    "start_time": "2021-11-19T15:58:23.555Z"
   },
   {
    "duration": 92,
    "start_time": "2021-11-19T15:58:23.582Z"
   },
   {
    "duration": 38,
    "start_time": "2021-11-19T15:58:23.677Z"
   },
   {
    "duration": 9,
    "start_time": "2021-11-19T15:58:23.717Z"
   },
   {
    "duration": 52,
    "start_time": "2021-11-19T15:58:23.728Z"
   },
   {
    "duration": 7,
    "start_time": "2021-11-19T15:58:23.783Z"
   },
   {
    "duration": 17,
    "start_time": "2021-11-19T15:58:23.792Z"
   },
   {
    "duration": 18,
    "start_time": "2021-11-19T15:58:23.812Z"
   },
   {
    "duration": 8,
    "start_time": "2021-11-19T15:58:23.868Z"
   },
   {
    "duration": 20,
    "start_time": "2021-11-19T15:58:23.878Z"
   },
   {
    "duration": 13,
    "start_time": "2021-11-19T15:58:23.900Z"
   },
   {
    "duration": 14,
    "start_time": "2021-11-19T15:58:23.915Z"
   },
   {
    "duration": 1488,
    "start_time": "2021-11-19T15:58:23.932Z"
   },
   {
    "duration": 297,
    "start_time": "2021-11-19T15:58:25.422Z"
   },
   {
    "duration": 1736,
    "start_time": "2021-11-19T15:58:25.722Z"
   },
   {
    "duration": 655,
    "start_time": "2021-11-19T15:58:27.470Z"
   },
   {
    "duration": 296,
    "start_time": "2021-11-19T15:58:28.127Z"
   },
   {
    "duration": 67,
    "start_time": "2021-11-19T15:58:28.426Z"
   },
   {
    "duration": 1287,
    "start_time": "2021-11-19T15:58:28.496Z"
   },
   {
    "duration": 734,
    "start_time": "2021-11-19T15:58:29.786Z"
   },
   {
    "duration": 668,
    "start_time": "2021-11-19T15:58:30.523Z"
   },
   {
    "duration": 5,
    "start_time": "2021-11-19T15:58:31.194Z"
   },
   {
    "duration": 9,
    "start_time": "2021-11-19T15:58:31.202Z"
   },
   {
    "duration": 12,
    "start_time": "2021-11-19T15:58:31.214Z"
   },
   {
    "duration": 665,
    "start_time": "2021-11-19T15:58:31.228Z"
   },
   {
    "duration": 6,
    "start_time": "2021-11-19T15:58:31.896Z"
   },
   {
    "duration": 14,
    "start_time": "2021-11-19T15:58:31.904Z"
   },
   {
    "duration": 10,
    "start_time": "2021-11-19T15:58:31.920Z"
   },
   {
    "duration": 49,
    "start_time": "2021-11-19T15:58:31.932Z"
   },
   {
    "duration": 17,
    "start_time": "2021-11-19T15:58:31.983Z"
   },
   {
    "duration": 8,
    "start_time": "2021-11-19T15:58:32.003Z"
   },
   {
    "duration": 340,
    "start_time": "2021-11-19T15:58:32.014Z"
   },
   {
    "duration": 19,
    "start_time": "2021-11-19T15:58:32.356Z"
   },
   {
    "duration": 17,
    "start_time": "2021-11-19T15:58:32.377Z"
   },
   {
    "duration": 5045,
    "start_time": "2021-11-19T21:21:08.661Z"
   },
   {
    "duration": 1512,
    "start_time": "2021-11-19T21:21:13.709Z"
   },
   {
    "duration": 5,
    "start_time": "2021-11-19T21:21:15.224Z"
   },
   {
    "duration": 7,
    "start_time": "2021-11-19T21:21:15.232Z"
   },
   {
    "duration": 6,
    "start_time": "2021-11-19T21:21:15.242Z"
   },
   {
    "duration": 23,
    "start_time": "2021-11-19T21:21:15.251Z"
   },
   {
    "duration": 68,
    "start_time": "2021-11-19T21:21:15.277Z"
   },
   {
    "duration": 25,
    "start_time": "2021-11-19T21:21:15.348Z"
   },
   {
    "duration": 99,
    "start_time": "2021-11-19T21:21:15.377Z"
   },
   {
    "duration": 46,
    "start_time": "2021-11-19T21:21:15.479Z"
   },
   {
    "duration": 42,
    "start_time": "2021-11-19T21:21:15.527Z"
   },
   {
    "duration": 20,
    "start_time": "2021-11-19T21:21:15.572Z"
   },
   {
    "duration": 9,
    "start_time": "2021-11-19T21:21:15.594Z"
   },
   {
    "duration": 15,
    "start_time": "2021-11-19T21:21:15.605Z"
   },
   {
    "duration": 56,
    "start_time": "2021-11-19T21:21:15.622Z"
   },
   {
    "duration": 12,
    "start_time": "2021-11-19T21:21:15.681Z"
   },
   {
    "duration": 19,
    "start_time": "2021-11-19T21:21:15.695Z"
   },
   {
    "duration": 49,
    "start_time": "2021-11-19T21:21:15.717Z"
   },
   {
    "duration": 14,
    "start_time": "2021-11-19T21:21:15.768Z"
   },
   {
    "duration": 1385,
    "start_time": "2021-11-19T21:21:15.784Z"
   },
   {
    "duration": 298,
    "start_time": "2021-11-19T21:21:17.171Z"
   },
   {
    "duration": 1712,
    "start_time": "2021-11-19T21:21:17.472Z"
   },
   {
    "duration": 661,
    "start_time": "2021-11-19T21:21:19.189Z"
   },
   {
    "duration": 293,
    "start_time": "2021-11-19T21:21:19.853Z"
   },
   {
    "duration": 66,
    "start_time": "2021-11-19T21:21:20.149Z"
   },
   {
    "duration": 1250,
    "start_time": "2021-11-19T21:21:20.218Z"
   },
   {
    "duration": 727,
    "start_time": "2021-11-19T21:21:21.471Z"
   },
   {
    "duration": 623,
    "start_time": "2021-11-19T21:21:22.200Z"
   },
   {
    "duration": 5,
    "start_time": "2021-11-19T21:21:22.825Z"
   },
   {
    "duration": 9,
    "start_time": "2021-11-19T21:21:22.833Z"
   },
   {
    "duration": 29,
    "start_time": "2021-11-19T21:21:22.844Z"
   },
   {
    "duration": 623,
    "start_time": "2021-11-19T21:21:22.876Z"
   },
   {
    "duration": 8,
    "start_time": "2021-11-19T21:21:23.502Z"
   },
   {
    "duration": 12,
    "start_time": "2021-11-19T21:21:23.513Z"
   },
   {
    "duration": 45,
    "start_time": "2021-11-19T21:21:23.528Z"
   },
   {
    "duration": 21,
    "start_time": "2021-11-19T21:21:23.577Z"
   },
   {
    "duration": 22,
    "start_time": "2021-11-19T21:21:23.601Z"
   },
   {
    "duration": 42,
    "start_time": "2021-11-19T21:21:23.626Z"
   },
   {
    "duration": 430,
    "start_time": "2021-11-19T21:21:23.671Z"
   },
   {
    "duration": 23,
    "start_time": "2021-11-19T21:21:24.103Z"
   },
   {
    "duration": 41,
    "start_time": "2021-11-19T21:21:24.129Z"
   },
   {
    "duration": 681,
    "start_time": "2021-11-19T21:24:02.538Z"
   }
  ],
  "kernelspec": {
   "display_name": "Python 3",
   "language": "python",
   "name": "python3"
  },
  "language_info": {
   "codemirror_mode": {
    "name": "ipython",
    "version": 3
   },
   "file_extension": ".py",
   "mimetype": "text/x-python",
   "name": "python",
   "nbconvert_exporter": "python",
   "pygments_lexer": "ipython3",
   "version": "3.7.6"
  },
  "toc": {
   "base_numbering": 1,
   "nav_menu": {
    "height": "171px",
    "width": "242px"
   },
   "number_sections": false,
   "sideBar": false,
   "skip_h1_title": false,
   "title_cell": "Table of Contents",
   "title_sidebar": "Contents",
   "toc_cell": false,
   "toc_position": {
    "height": "47.6875px",
    "left": "1120.64px",
    "top": "67.125px",
    "width": "159.359px"
   },
   "toc_section_display": false,
   "toc_window_display": false
  }
 },
 "nbformat": 4,
 "nbformat_minor": 2
}
