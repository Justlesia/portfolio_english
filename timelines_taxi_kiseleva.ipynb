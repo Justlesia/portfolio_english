{
 "cells": [
  {
   "cell_type": "markdown",
   "metadata": {},
   "source": [
    "<br/><font size=\"6\"><b>Taxi at airports. Time series</b></font>.<br/>"
   ]
  },
  {
   "cell_type": "markdown",
   "metadata": {},
   "source": [
    "<a name=\"1common.\"></a>\n",
    "## <a name=\"0.0\"></a>Content:\n",
    "* [0. Loading libraries and self-written functions](#0.)\n",
    "* [1. Data preparation](#1.)\n",
    "* [2. Analysis](#2.)\n",
    "* [3. Training](#3.)\n",
    "* [4. Testing](#4.)\n",
    "* [5. Checking the model for adequacy](#5.)\n",
    "* [Сonclusions](#6.)"
   ]
  },
  {
   "cell_type": "markdown",
   "metadata": {},
   "source": [
    "# Description of the project\n",
    "\n",
    "Based on historical data on taxi orders, you need to build a model to predict the number of taxi orders for the next hour.\n",
    "\n",
    "*The value of the **RMSE** metric on the test sample should not exceed 48.*\n",
    "\n",
    "## Description of data\n",
    "\n",
    "The data is in the `taxi.csv` file. The number of orders is in the '*num_orders*' column."
   ]
  },
  {
   "cell_type": "markdown",
   "metadata": {},
   "source": [
    "<aname=\"0.\"></a><br/>\n",
    "<font size=\"6\"><b>0. Loading libraries and self-written functions</b></font>.<br/>\n",
    "[<font size=\"2\">(to content)</font>](#1common.)"
   ]
  },
  {
   "cell_type": "code",
   "execution_count": 1,
   "metadata": {},
   "outputs": [],
   "source": [
    "import pandas as pd\n",
    "import numpy as np\n",
    "import matplotlib.pyplot as plt\n",
    "import joblib\n",
    "from termcolor import colored\n",
    "\n",
    "import warnings\n",
    "import time\n",
    "import random\n",
    "import seaborn as sns\n",
    "import plotly.graph_objects as go\n",
    "import plotly.figure_factory as ff\n",
    "import plotly.express as px\n",
    "from plotly.subplots import make_subplots\n",
    "\n",
    "from sklearn.model_selection import GridSearchCV\n",
    "from sklearn.utils import shuffle\n",
    "from sklearn.model_selection import train_test_split\n",
    "from sklearn.model_selection import KFold\n",
    "from sklearn.metrics import mean_squared_error\n",
    "from sklearn.metrics import mean_absolute_error\n",
    "from sklearn.exceptions import NotFittedError\n",
    "from sklearn.ensemble import RandomForestRegressor\n",
    "from sklearn.tree import DecisionTreeRegressor\n",
    "\n",
    "from sklearn.linear_model import LinearRegression\n",
    "from sklearn.linear_model import Lasso\n",
    "from sklearn.linear_model import OrthogonalMatchingPursuit\n",
    "from sklearn.linear_model import Ridge\n",
    "from sklearn.linear_model import BayesianRidge\n",
    "\n",
    "from lightgbm import LGBMRegressor\n",
    "from catboost import CatBoostRegressor\n",
    "from sklearn.dummy import DummyRegressor\n",
    "from statsmodels.tsa.seasonal import seasonal_decompose\n"
   ]
  },
  {
   "cell_type": "code",
   "execution_count": 2,
   "metadata": {},
   "outputs": [],
   "source": [
    "def bold():\n",
    "     return \"\\033[1m\"\n",
    "\n",
    "def bold_end():\n",
    "     return \"\\033[0m\"\n",
    "\n",
    "#Set the format for numbers\n",
    "pd.options.display.float_format = '{:>10.2f}'.format\n",
    "\n",
    "#Remove warnings\n",
    "warnings.simplefilter(action='ignore', category=FutureWarning)"
   ]
  },
  {
   "cell_type": "code",
   "execution_count": 3,
   "metadata": {},
   "outputs": [],
   "source": [
    "#**Function print_basic_info, to display information about the array and its variables.**\n",
    "\n",
    "#* base - database name\n",
    "#* info - 1: output information about the array, other: no output\n",
    "#* describe - 1: output description of array variables, other: no output\n",
    "#* duplicat - 1: print the number of full duplicates\n",
    "#* head - n: base example output (output n - lines), n < 1: no output\n",
    "\n",
    "def print_basic_info(base, info, describe, duplicate, head):\n",
    "    if info == 1:\n",
    "        print(\"\\n\", bold(), colored('info','green'), bold_end(), \"\\n\")\n",
    "        print(base.info())\n",
    "    if head >= 1:\n",
    "        print(\"\\n\", bold(),colored('head','green'),bold_end())\n",
    "        display(base.head(head))\n",
    "    if describe == 1:\n",
    "        print(\"\\n\", bold(),colored('describe','green'),bold_end(),\"\\n\")\n",
    "        for i in base.columns:\n",
    "            print(\"\\n\", bold(), colored(i,'blue'),bold_end(),\"\\n\", base[i].describe())\n",
    "    if duplicate == 1:\n",
    "        print(\"\\n\", bold(),colored('duplicated','green'),bold_end(),\"\\n\")\n",
    "        print(base[base.duplicated() == True][base.columns[0]].count())"
   ]
  },
  {
   "cell_type": "markdown",
   "metadata": {},
   "source": [
    "<a name=\"1.\"></a><br/>\n",
    "<font size=\"6\"><b>1. Data preparation</b></font>.<br/>\n",
    "[<font size=\"2\">(to content)</font>](#1common.)"
   ]
  },
  {
   "cell_type": "markdown",
   "metadata": {},
   "source": [
    "Открывая файл сразу сделаем из даты индекс "
   ]
  },
  {
   "cell_type": "code",
   "execution_count": 4,
   "metadata": {},
   "outputs": [
    {
     "name": "stdout",
     "output_type": "stream",
     "text": [
      "\n",
      " \u001b[1m \u001b[32minfo\u001b[0m \u001b[0m \n",
      "\n",
      "<class 'pandas.core.frame.DataFrame'>\n",
      "DatetimeIndex: 26496 entries, 2018-03-01 00:00:00 to 2018-08-31 23:50:00\n",
      "Data columns (total 1 columns):\n",
      " #   Column      Non-Null Count  Dtype\n",
      "---  ------      --------------  -----\n",
      " 0   num_orders  26496 non-null  int64\n",
      "dtypes: int64(1)\n",
      "memory usage: 414.0 KB\n",
      "None\n",
      "\n",
      " \u001b[1m \u001b[32mhead\u001b[0m \u001b[0m\n"
     ]
    },
    {
     "data": {
      "text/html": [
       "<div>\n",
       "<style scoped>\n",
       "    .dataframe tbody tr th:only-of-type {\n",
       "        vertical-align: middle;\n",
       "    }\n",
       "\n",
       "    .dataframe tbody tr th {\n",
       "        vertical-align: top;\n",
       "    }\n",
       "\n",
       "    .dataframe thead th {\n",
       "        text-align: right;\n",
       "    }\n",
       "</style>\n",
       "<table border=\"1\" class=\"dataframe\">\n",
       "  <thead>\n",
       "    <tr style=\"text-align: right;\">\n",
       "      <th></th>\n",
       "      <th>num_orders</th>\n",
       "    </tr>\n",
       "    <tr>\n",
       "      <th>datetime</th>\n",
       "      <th></th>\n",
       "    </tr>\n",
       "  </thead>\n",
       "  <tbody>\n",
       "    <tr>\n",
       "      <th>2018-03-01 00:00:00</th>\n",
       "      <td>9</td>\n",
       "    </tr>\n",
       "    <tr>\n",
       "      <th>2018-03-01 00:10:00</th>\n",
       "      <td>14</td>\n",
       "    </tr>\n",
       "    <tr>\n",
       "      <th>2018-03-01 00:20:00</th>\n",
       "      <td>28</td>\n",
       "    </tr>\n",
       "  </tbody>\n",
       "</table>\n",
       "</div>"
      ],
      "text/plain": [
       "                     num_orders\n",
       "datetime                       \n",
       "2018-03-01 00:00:00           9\n",
       "2018-03-01 00:10:00          14\n",
       "2018-03-01 00:20:00          28"
      ]
     },
     "metadata": {},
     "output_type": "display_data"
    },
    {
     "name": "stdout",
     "output_type": "stream",
     "text": [
      "\n",
      " \u001b[1m \u001b[32mdescribe\u001b[0m \u001b[0m \n",
      "\n",
      "\n",
      " \u001b[1m \u001b[34mnum_orders\u001b[0m \u001b[0m \n",
      " count     26496.00\n",
      "mean         14.07\n",
      "std           9.21\n",
      "min           0.00\n",
      "25%           8.00\n",
      "50%          13.00\n",
      "75%          19.00\n",
      "max         119.00\n",
      "Name: num_orders, dtype: float64\n"
     ]
    }
   ],
   "source": [
    "#I work locally, the online path in the hub is slightly different ('/datasets/...')\n",
    "\n",
    "df_taxi = pd.read_csv('datasets/taxi.csv', sep=',',decimal='.', index_col = 'datetime', parse_dates=[0])\n",
    "\n",
    "print_basic_info(df_taxi,1,1,0,3)"
   ]
  },
  {
   "cell_type": "markdown",
   "metadata": {},
   "source": [
    "We only have the result and the date.\n",
    "\n",
    "A total of 26496 cases. All are filled."
   ]
  },
  {
   "cell_type": "code",
   "execution_count": 5,
   "metadata": {},
   "outputs": [],
   "source": [
    "df_taxi.sort_index(inplace=True, ascending=False)"
   ]
  },
  {
   "cell_type": "code",
   "execution_count": 6,
   "metadata": {},
   "outputs": [],
   "source": [
    "# Check if the dates are monotonic\n",
    "\n",
    "df_taxi.sort_index(inplace=True, ascending=False)\n",
    "\n",
    "def is_monotonic(data):\n",
    "    if data.index.is_monotonic == True:\n",
    "        print(bold(), colored('Sorted by date','green') , bold_end(), \"\\n\")\n",
    "        return data\n",
    "    else:\n",
    "        print(bold(), colored('Not sorted by date','red') , bold_end(), \"\\n\")\n",
    "        data.sort_index(inplace=True)\n",
    "        return is_monotonic(data)"
   ]
  },
  {
   "cell_type": "code",
   "execution_count": 7,
   "metadata": {},
   "outputs": [
    {
     "name": "stdout",
     "output_type": "stream",
     "text": [
      "\u001b[1m \u001b[34mis_monotonic\u001b[0m \u001b[0m \n",
      "\n",
      "\u001b[1m \u001b[31mNot sorted by date\u001b[0m \u001b[0m \n",
      "\n",
      "\u001b[1m \u001b[32mSorted by date\u001b[0m \u001b[0m \n",
      "\n"
     ]
    }
   ],
   "source": [
    "#For the convenience of repeating the data processing process, we will make a function\n",
    "\n",
    "steps_clean = [is_monotonic]\n",
    "\n",
    "def clean_data(data, steps_clean):\n",
    "    for step in steps_clean:\n",
    "        print(bold(), colored((str(step).split()[1]),'blue'), bold_end(), \"\\n\")\n",
    "        data = step(data)\n",
    "    return data\n",
    "\n",
    "data_clean = clean_data(df_taxi, steps_clean)"
   ]
  },
  {
   "cell_type": "code",
   "execution_count": 8,
   "metadata": {},
   "outputs": [
    {
     "name": "stdout",
     "output_type": "stream",
     "text": [
      "\u001b[1m \u001b[34mis_monotonic\u001b[0m \u001b[0m \n",
      "\n",
      "\u001b[1m \u001b[32mSorted by date\u001b[0m \u001b[0m \n",
      "\n",
      "\u001b[1m \u001b[34mresample_h\u001b[0m \u001b[0m \n",
      "\n",
      "\u001b[1m \u001b[32mResample - 1 hour\u001b[0m \u001b[0m \n",
      "\n"
     ]
    }
   ],
   "source": [
    "# merge data by 1 hour\n",
    "def resample_h(data):\n",
    "    data = data.resample('1H').sum()\n",
    "    print(bold(), colored('Resample - 1 hour','green') , bold_end(), \"\\n\")\n",
    "    return data\n",
    "\n",
    "step = (resample_h)\n",
    "if (steps_clean[-1] != step):\n",
    "        steps_clean.append(step)\n",
    "\n",
    "data_clean = clean_data(df_taxi, steps_clean)"
   ]
  },
  {
   "cell_type": "code",
   "execution_count": 9,
   "metadata": {},
   "outputs": [
    {
     "name": "stdout",
     "output_type": "stream",
     "text": [
      "\n",
      " \u001b[1m \u001b[32minfo\u001b[0m \u001b[0m \n",
      "\n",
      "<class 'pandas.core.frame.DataFrame'>\n",
      "DatetimeIndex: 4416 entries, 2018-03-01 00:00:00 to 2018-08-31 23:00:00\n",
      "Freq: H\n",
      "Data columns (total 1 columns):\n",
      " #   Column      Non-Null Count  Dtype\n",
      "---  ------      --------------  -----\n",
      " 0   num_orders  4416 non-null   int64\n",
      "dtypes: int64(1)\n",
      "memory usage: 69.0 KB\n",
      "None\n",
      "\n",
      " \u001b[1m \u001b[32mdescribe\u001b[0m \u001b[0m \n",
      "\n",
      "\n",
      " \u001b[1m \u001b[34mnum_orders\u001b[0m \u001b[0m \n",
      " count      4416.00\n",
      "mean         84.42\n",
      "std          45.02\n",
      "min           0.00\n",
      "25%          54.00\n",
      "50%          78.00\n",
      "75%         107.00\n",
      "max         462.00\n",
      "Name: num_orders, dtype: float64\n"
     ]
    }
   ],
   "source": [
    "# see how many cases\n",
    "print_basic_info(data_clean,1,1,0,0)"
   ]
  },
  {
   "cell_type": "markdown",
   "metadata": {},
   "source": [
    "Great, there are fewer cases because the data was summed up\n",
    "\n",
    "**Add information by year, month, day and day of the week**"
   ]
  },
  {
   "cell_type": "code",
   "execution_count": 10,
   "metadata": {},
   "outputs": [
    {
     "name": "stdout",
     "output_type": "stream",
     "text": [
      "\u001b[1m \u001b[34mis_monotonic\u001b[0m \u001b[0m \n",
      "\n",
      "\u001b[1m \u001b[32mSorted by date\u001b[0m \u001b[0m \n",
      "\n",
      "\u001b[1m \u001b[34mresample_h\u001b[0m \u001b[0m \n",
      "\n",
      "\u001b[1m \u001b[32mResample - 1 hour\u001b[0m \u001b[0m \n",
      "\n",
      "\u001b[1m \u001b[34mdata_info\u001b[0m \u001b[0m \n",
      "\n",
      "\u001b[1m \u001b[32mVariable - year\u001b[0m \u001b[0m \n",
      "\n",
      "\u001b[1m \u001b[32mVariable - month\u001b[0m \u001b[0m \n",
      "\n",
      "\u001b[1m \u001b[32mVariable day\u001b[0m \u001b[0m \n",
      "\n",
      "\u001b[1m \u001b[32mVariable - day of the week\u001b[0m \u001b[0m \n",
      "\n",
      "\u001b[1m \u001b[32mVariable - hour\u001b[0m \u001b[0m \n",
      "\n"
     ]
    }
   ],
   "source": [
    "def data_info(data):\n",
    "    data['year'] = data.index.year\n",
    "    print(bold(), colored('Variable - year','green'), bold_end(), \"\\n\")\n",
    "    \n",
    "    data['month'] = data.index.month\n",
    "    print(bold(), colored('Variable - month','green'), bold_end(), \"\\n\")\n",
    "    \n",
    "    data['day'] = data.index.day\n",
    "    print(bold(), colored('Variable day','green'), bold_end(), \"\\n\")\n",
    "    \n",
    "    data['dayofweek'] = data.index.dayofweek\n",
    "    print(bold(), colored('Variable - day of the week','green'), bold_end(), \"\\n\")\n",
    "    \n",
    "    data['hour'] = data.index.hour\n",
    "    print(bold(), colored('Variable - hour','green'), bold_end(), \"\\n\")\n",
    "    \n",
    "    return data\n",
    "\n",
    "step = data_info\n",
    "if (steps_clean[-1] != step):\n",
    "        steps_clean.append(step)\n",
    "\n",
    "data_clean = clean_data(df_taxi, steps_clean)"
   ]
  },
  {
   "cell_type": "code",
   "execution_count": 11,
   "metadata": {},
   "outputs": [
    {
     "name": "stdout",
     "output_type": "stream",
     "text": [
      "\n",
      " \u001b[1m \u001b[32minfo\u001b[0m \u001b[0m \n",
      "\n",
      "<class 'pandas.core.frame.DataFrame'>\n",
      "DatetimeIndex: 4416 entries, 2018-03-01 00:00:00 to 2018-08-31 23:00:00\n",
      "Freq: H\n",
      "Data columns (total 6 columns):\n",
      " #   Column      Non-Null Count  Dtype\n",
      "---  ------      --------------  -----\n",
      " 0   num_orders  4416 non-null   int64\n",
      " 1   year        4416 non-null   int64\n",
      " 2   month       4416 non-null   int64\n",
      " 3   day         4416 non-null   int64\n",
      " 4   dayofweek   4416 non-null   int64\n",
      " 5   hour        4416 non-null   int64\n",
      "dtypes: int64(6)\n",
      "memory usage: 241.5 KB\n",
      "None\n"
     ]
    }
   ],
   "source": [
    "print_basic_info(data_clean,1,0,0,0)"
   ]
  },
  {
   "cell_type": "markdown",
   "metadata": {},
   "source": [
    "<a name=\"2.\"></a><br/>\n",
    "<font size=\"6\"><b>2. Анализ</b></font>.<br/>\n",
    "[<font size=\"2\">(к содержанию)</font>](#1common.)"
   ]
  },
  {
   "cell_type": "markdown",
   "metadata": {},
   "source": [
    "**To analyze the data, let's look at the patterns in general.\n",
    "Let's take a moving average for the day. Also see the trend**"
   ]
  },
  {
   "cell_type": "code",
   "execution_count": 12,
   "metadata": {},
   "outputs": [
    {
     "data": {
      "image/png": "[encoded data removed]",
      "text/plain": [
       "<Figure size 432x576 with 2 Axes>"
      ]
     },
     "metadata": {
      "needs_background": "light"
     },
     "output_type": "display_data"
    }
   ],
   "source": [
    "decomposed =  seasonal_decompose(data_clean['num_orders'])\n",
    "\n",
    "plt.figure(figsize=(6, 8))\n",
    "plt.subplot(311)\n",
    "data_clean['num_orders'].rolling(24).mean().plot()\n",
    "plt.title('Roaling Mean in Day')\n",
    "plt.subplot(312)\n",
    "decomposed.trend.plot(ax=plt.gca())\n",
    "plt.title('Trend')\n",
    "\n",
    "plt.tight_layout()"
   ]
  },
  {
   "cell_type": "markdown",
   "metadata": {},
   "source": [
    "* Moving average for the day completely coincides with the calculated trend. Now we know how the trend is calculated\n",
    "\n",
    "* In general, there is a tendency to increase orders\n",
    "\n",
    "* However, seasonality cannot be assessed because we only have data for one year."
   ]
  },
  {
   "cell_type": "markdown",
   "metadata": {},
   "source": [
    "**Let's see the dependence on the day of the week**"
   ]
  },
  {
   "cell_type": "code",
   "execution_count": 13,
   "metadata": {},
   "outputs": [
    {
     "data": {
      "image/png": "[encoded data removed]",
      "text/plain": [
       "<Figure size 432x288 with 1 Axes>"
      ]
     },
     "metadata": {
      "needs_background": "light"
     },
     "output_type": "display_data"
    },
    {
     "data": {
      "image/png": "[encoded data removed]",
      "text/plain": [
       "<Figure size 432x288 with 1 Axes>"
      ]
     },
     "metadata": {
      "needs_background": "light"
     },
     "output_type": "display_data"
    }
   ],
   "source": [
    "data_clean.pivot_table(index='dayofweek', values='num_orders', aggfunc='mean').plot()\n",
    "plt.title('Days of the week (Mean)')\n",
    "plt.show()\n",
    "\n",
    "\n",
    "data_clean.pivot_table(index='hour', values='num_orders', aggfunc='mean').plot()\n",
    "plt.title('Hours (Mean)')\n",
    "plt.show()"
   ]
  },
  {
   "cell_type": "markdown",
   "metadata": {},
   "source": [
    "* Based on average number of calls:\n",
    "    * The most popular days for calling a taxi are Monday and Friday.\n",
    "    * Peak time is around midnight"
   ]
  },
  {
   "cell_type": "markdown",
   "metadata": {},
   "source": [
    "<a name=\"3.\"></a><br/>\n",
    "<font size=\"6\"><b>3. Training</b></font>.<br/>\n",
    "[<font size=\"2\">(to content)</font>](#1common.)"
   ]
  },
  {
   "cell_type": "markdown",
   "metadata": {},
   "source": [
    "Let's make a convenient function so that you can calculate the shifts and the moving average and split the target and features"
   ]
  },
  {
   "cell_type": "code",
   "execution_count": 14,
   "metadata": {},
   "outputs": [
    {
     "name": "stderr",
     "output_type": "stream",
     "text": [
      "/Users/lesia/opt/anaconda3/lib/python3.7/site-packages/ipykernel_launcher.py:3: PerformanceWarning: DataFrame is highly fragmented.  This is usually the result of calling `frame.insert` many times, which has poor performance.  Consider using pd.concat instead.  To get a de-fragmented frame, use `newframe = frame.copy()`\n",
      "  This is separate from the ipykernel package so we can avoid doing imports until\n",
      "/Users/lesia/opt/anaconda3/lib/python3.7/site-packages/ipykernel_launcher.py:4: PerformanceWarning: DataFrame is highly fragmented.  This is usually the result of calling `frame.insert` many times, which has poor performance.  Consider using pd.concat instead.  To get a de-fragmented frame, use `newframe = frame.copy()`\n",
      "  after removing the cwd from sys.path.\n"
     ]
    }
   ],
   "source": [
    "def make_features(data, max_lag, rolling_mean_size):\n",
    "    for lag in range(1, max_lag + 1):\n",
    "        data['lag_{}'.format(lag)] = data['num_orders'].shift(lag)\n",
    "    data['rolling_mean'] = data['num_orders'].shift().rolling(rolling_mean_size).mean()\n",
    "    # according to specification test_size = 10%\n",
    "    # shuffle=False because we work with time series and are not psychics\n",
    "    train, test = train_test_split(data, shuffle=False, test_size=0.1)\n",
    "    train = train.dropna()\n",
    "\n",
    "    features_train = train.drop(['num_orders'], axis='columns')\n",
    "    features_test = test.drop(['num_orders'], axis='columns')\n",
    "    \n",
    "    target_train = train['num_orders']\n",
    "    target_test = test['num_orders']\n",
    "    \n",
    "    return features_train, features_test, target_train, target_test\n",
    "    \n",
    "# Let's start with a shift for every hour of the week. Let's take the moving average per day\n",
    "features_train, features_test, target_train, target_test = make_features(data_clean, 24*7, 24)"
   ]
  },
  {
   "cell_type": "code",
   "execution_count": 15,
   "metadata": {},
   "outputs": [
    {
     "name": "stdout",
     "output_type": "stream",
     "text": [
      "(3806, 174) (3806,) (442, 174) (442,)\n"
     ]
    }
   ],
   "source": [
    "print(features_train.shape,target_train.shape, features_test.shape, target_test.shape)"
   ]
  },
  {
   "cell_type": "code",
   "execution_count": 16,
   "metadata": {},
   "outputs": [],
   "source": [
    "#shuffle=False - because we need whole temporary chunks\n",
    "cv = KFold(n_splits=5, random_state=1234, shuffle=False)"
   ]
  },
  {
   "cell_type": "code",
   "execution_count": 17,
   "metadata": {},
   "outputs": [
    {
     "name": "stderr",
     "output_type": "stream",
     "text": [
      "/Users/lesia/opt/anaconda3/lib/python3.7/site-packages/sklearn/linear_model/_coordinate_descent.py:476: ConvergenceWarning: Objective did not converge. You might want to increase the number of iterations. Duality gap: 182987.36410176952, tolerance: 473.26549031198687\n",
      "  positive)\n",
      "/Users/lesia/opt/anaconda3/lib/python3.7/site-packages/sklearn/linear_model/_coordinate_descent.py:476: ConvergenceWarning: Objective did not converge. You might want to increase the number of iterations. Duality gap: 321581.17597957177, tolerance: 479.8392334975368\n",
      "  positive)\n",
      "/Users/lesia/opt/anaconda3/lib/python3.7/site-packages/sklearn/linear_model/_coordinate_descent.py:476: ConvergenceWarning: Objective did not converge. You might want to increase the number of iterations. Duality gap: 143514.69906874804, tolerance: 478.7635240065682\n",
      "  positive)\n"
     ]
    },
    {
     "name": "stdout",
     "output_type": "stream",
     "text": [
      "{'alpha': 0.8}\n"
     ]
    }
   ],
   "source": [
    "#Lasso\n",
    "\n",
    "grid = {'alpha' : [i for i in np.arange(0.1,0.9,0.1)]}\n",
    "\n",
    "clf = Lasso(random_state = 123)\n",
    "\n",
    "gs = GridSearchCV(clf, grid, cv=cv, scoring = 'neg_mean_squared_error')\n",
    "gs.fit(features_train,target_train)\n",
    "\n",
    "Lasso_best_params = gs.best_params_\n",
    "print(Lasso_best_params)"
   ]
  },
  {
   "cell_type": "code",
   "execution_count": 18,
   "metadata": {},
   "outputs": [
    {
     "name": "stdout",
     "output_type": "stream",
     "text": [
      "{'n_alphas': 12}\n"
     ]
    }
   ],
   "source": [
    "#LassoCV\n",
    "\n",
    "from sklearn.linear_model import LassoCV\n",
    "\n",
    "grid = {'n_alphas' : [i for i in range(1,20)] }\n",
    "\n",
    "clf = LassoCV(random_state = 123)\n",
    "\n",
    "gs = GridSearchCV(clf, grid, cv=cv, scoring = 'neg_mean_squared_error')\n",
    "gs.fit(features_train,target_train)\n",
    "\n",
    "LassoCV_best_params = gs.best_params_\n",
    "print(LassoCV_best_params)"
   ]
  },
  {
   "cell_type": "code",
   "execution_count": 19,
   "metadata": {},
   "outputs": [
    {
     "name": "stdout",
     "output_type": "stream",
     "text": [
      "{'precompute': True}\n"
     ]
    }
   ],
   "source": [
    "#OrthogonalMatchingPursuit\n",
    "\n",
    "grid = {'precompute' : [True, False, 'auto']}\n",
    "\n",
    "clf = OrthogonalMatchingPursuit()\n",
    "\n",
    "gs = GridSearchCV(clf, grid, cv=cv, scoring = 'neg_mean_squared_error')\n",
    "gs.fit(features_train,target_train)\n",
    "\n",
    "OrthogonalMatchingPursuit_best_params = gs.best_params_\n",
    "print(OrthogonalMatchingPursuit_best_params)"
   ]
  },
  {
   "cell_type": "code",
   "execution_count": 20,
   "metadata": {},
   "outputs": [
    {
     "name": "stdout",
     "output_type": "stream",
     "text": [
      "{'n_iter': 5}\n"
     ]
    }
   ],
   "source": [
    "#BayesianRidge\n",
    "\n",
    "grid = {'n_iter' : [i for i in range(1,200)]}\n",
    "\n",
    "clf = BayesianRidge()\n",
    "\n",
    "gs = GridSearchCV(clf, grid, cv=cv, scoring = 'neg_mean_squared_error')\n",
    "gs.fit(features_train,target_train)\n",
    "\n",
    "BayesianRidge_best_params = gs.best_params_\n",
    "print(BayesianRidge_best_params)"
   ]
  },
  {
   "cell_type": "code",
   "execution_count": 21,
   "metadata": {},
   "outputs": [
    {
     "name": "stdout",
     "output_type": "stream",
     "text": [
      "{'alpha': 0.8}\n"
     ]
    }
   ],
   "source": [
    "#Ridge\n",
    "\n",
    "grid = {'alpha' : [i for i in np.arange(0.1,0.9,0.1)]}\n",
    "\n",
    "clf = Ridge()\n",
    "\n",
    "gs = GridSearchCV(clf, grid, cv=cv, scoring = 'neg_mean_squared_error')\n",
    "gs.fit(features_train,target_train)\n",
    "\n",
    "Ridge_best_params = gs.best_params_\n",
    "print(Ridge_best_params)"
   ]
  },
  {
   "cell_type": "code",
   "execution_count": 22,
   "metadata": {},
   "outputs": [
    {
     "name": "stdout",
     "output_type": "stream",
     "text": [
      "{'normalize': False}\n"
     ]
    }
   ],
   "source": [
    "#LinearRegression\n",
    "\n",
    "grid = {'normalize' : [True, False]}\n",
    "clf = LinearRegression()\n",
    "\n",
    "gs = GridSearchCV(clf, grid, cv=cv, scoring = 'neg_mean_squared_error')\n",
    "gs.fit(features_train,target_train)\n",
    "\n",
    "LinearRegression_best_params = gs.best_params_\n",
    "print(LinearRegression_best_params)"
   ]
  },
  {
   "cell_type": "code",
   "execution_count": 23,
   "metadata": {},
   "outputs": [],
   "source": [
    "#make a function that will record the training time, prediction rate, and prediction quality (RMSE)\n",
    "def put_in_base(model_name, base_res, features_train, target_train):\n",
    "    features_train.reset_index(drop = True, inplace = True)\n",
    "    target_train.reset_index(drop = True, inplace = True)\n",
    "    cv = KFold(n_splits = 3, shuffle=True, random_state=241)\n",
    "    time_train, time_predict, RMSE = [], [], []\n",
    "    for train_index, val_index in cv.split(features_train):\n",
    "        X_train, X_val = features_train.loc[train_index], features_train.loc[val_index]\n",
    "        y_train, y_val = target_train.loc[train_index], target_train.loc[val_index]\n",
    "        #studying time.\n",
    "        start_time = time.time()\n",
    "        model_name.fit(X_train, y_train)\n",
    "        time_train.append(round((time.time() - start_time),3))\n",
    "        #prediction speed.\n",
    "        start_time = time.time()\n",
    "        predictions_valid = model_name.predict(X_val)\n",
    "        time_predict.append(round((time.time() - start_time),3))\n",
    "        #prediction quality(RMSE)\n",
    "        RMSE.append(mean_squared_error(y_val, predictions_valid)**0.5)\n",
    "    \n",
    "    base_res.loc[str(clf).split('(')[0],'time_train'] = np.mean(time_train)\n",
    "    base_res.loc[str(clf).split('(')[0],'time_predict'] = np.mean(time_predict)\n",
    "    base_res.loc[str(clf).split('(')[0],'RMSE'] = np.mean(RMSE)\n",
    "    return base_res"
   ]
  },
  {
   "cell_type": "code",
   "execution_count": 24,
   "metadata": {},
   "outputs": [],
   "source": [
    "ans = pd.DataFrame()\n",
    "\n",
    "for clf in (Lasso(random_state = 123, alpha = 0.8),\n",
    "            LassoCV(n_alphas = 5, random_state = 123),\n",
    "            OrthogonalMatchingPursuit(precompute = False),\n",
    "            BayesianRidge(n_iter =  5),\n",
    "            Ridge(random_state = 123, alpha = 0.8),\n",
    "            LinearRegression(normalize =False)\n",
    "           ):\n",
    "    put_in_base(clf, ans, features_train, target_train)\n",
    "    "
   ]
  },
  {
   "cell_type": "code",
   "execution_count": 25,
   "metadata": {},
   "outputs": [
    {
     "data": {
      "text/html": [
       "<div>\n",
       "<style scoped>\n",
       "    .dataframe tbody tr th:only-of-type {\n",
       "        vertical-align: middle;\n",
       "    }\n",
       "\n",
       "    .dataframe tbody tr th {\n",
       "        vertical-align: top;\n",
       "    }\n",
       "\n",
       "    .dataframe thead th {\n",
       "        text-align: right;\n",
       "    }\n",
       "</style>\n",
       "<table border=\"1\" class=\"dataframe\">\n",
       "  <thead>\n",
       "    <tr style=\"text-align: right;\">\n",
       "      <th></th>\n",
       "      <th>time_train</th>\n",
       "      <th>time_predict</th>\n",
       "      <th>RMSE</th>\n",
       "    </tr>\n",
       "  </thead>\n",
       "  <tbody>\n",
       "    <tr>\n",
       "      <th>LassoCV</th>\n",
       "      <td>0.32</td>\n",
       "      <td>0.00</td>\n",
       "      <td>21.30</td>\n",
       "    </tr>\n",
       "    <tr>\n",
       "      <th>OrthogonalMatchingPursuit</th>\n",
       "      <td>0.02</td>\n",
       "      <td>0.00</td>\n",
       "      <td>21.48</td>\n",
       "    </tr>\n",
       "    <tr>\n",
       "      <th>BayesianRidge</th>\n",
       "      <td>0.11</td>\n",
       "      <td>0.00</td>\n",
       "      <td>21.49</td>\n",
       "    </tr>\n",
       "    <tr>\n",
       "      <th>Lasso</th>\n",
       "      <td>0.30</td>\n",
       "      <td>0.00</td>\n",
       "      <td>21.67</td>\n",
       "    </tr>\n",
       "    <tr>\n",
       "      <th>Ridge</th>\n",
       "      <td>0.02</td>\n",
       "      <td>0.00</td>\n",
       "      <td>21.75</td>\n",
       "    </tr>\n",
       "    <tr>\n",
       "      <th>LinearRegression</th>\n",
       "      <td>0.07</td>\n",
       "      <td>0.00</td>\n",
       "      <td>21.76</td>\n",
       "    </tr>\n",
       "  </tbody>\n",
       "</table>\n",
       "</div>"
      ],
      "text/plain": [
       "                           time_train  time_predict       RMSE\n",
       "LassoCV                          0.32          0.00      21.30\n",
       "OrthogonalMatchingPursuit        0.02          0.00      21.48\n",
       "BayesianRidge                    0.11          0.00      21.49\n",
       "Lasso                            0.30          0.00      21.67\n",
       "Ridge                            0.02          0.00      21.75\n",
       "LinearRegression                 0.07          0.00      21.76"
      ]
     },
     "metadata": {},
     "output_type": "display_data"
    }
   ],
   "source": [
    "display(ans.sort_values(by = 'RMSE'))"
   ]
  },
  {
   "cell_type": "markdown",
   "metadata": {},
   "source": [
    "**We will use LassoCV**. This model has the lowest RMSE"
   ]
  },
  {
   "cell_type": "markdown",
   "metadata": {},
   "source": [
    "<a name=\"4.\"></a><br/>\n",
    "<font size=\"6\"><b>4. Тестирование</b></font>.<br/>\n",
    "[<font size=\"2\">(к содержанию)</font>](#1common.)"
   ]
  },
  {
   "cell_type": "code",
   "execution_count": 26,
   "metadata": {},
   "outputs": [],
   "source": [
    "#make a function that will record the training time, prediction rate, and prediction quality (RMSE)\n",
    "def put_in_base_test(model_name, base_res, features_train, target_train, features_test, target_test):\n",
    "    \n",
    "    #studying time.\n",
    "    start_time = time.time()\n",
    "    model_name.fit(features_train, target_train)\n",
    "    base_res.loc['fin','time_train'] = round((time.time() - start_time),3)\n",
    "    \n",
    "    #prediction speed.\n",
    "    start_time = time.time()\n",
    "    predictions_test = model_name.predict(features_test)\n",
    "    base_res.loc['fin','time_predict'] = round((time.time() - start_time),3)\n",
    "    \n",
    "    #prediction quality(RMSE)\n",
    "    base_res.loc['fin','RMSE'] = mean_squared_error(target_test, predictions_test)**0.5\n",
    "    \n",
    "    return predictions_test, model_name, base_res"
   ]
  },
  {
   "cell_type": "code",
   "execution_count": 27,
   "metadata": {},
   "outputs": [],
   "source": [
    "info_final_test = pd.DataFrame()\n",
    "final_model = LassoCV(n_alphas = 5, random_state = 123)\n",
    "predictions_test, final_model, info_final_test = put_in_base_test(final_model, info_final_test, \n",
    "                                                                  features_train, target_train, \n",
    "                                                                  features_test, target_test)"
   ]
  },
  {
   "cell_type": "code",
   "execution_count": 28,
   "metadata": {},
   "outputs": [
    {
     "data": {
      "text/html": [
       "<div>\n",
       "<style scoped>\n",
       "    .dataframe tbody tr th:only-of-type {\n",
       "        vertical-align: middle;\n",
       "    }\n",
       "\n",
       "    .dataframe tbody tr th {\n",
       "        vertical-align: top;\n",
       "    }\n",
       "\n",
       "    .dataframe thead th {\n",
       "        text-align: right;\n",
       "    }\n",
       "</style>\n",
       "<table border=\"1\" class=\"dataframe\">\n",
       "  <thead>\n",
       "    <tr style=\"text-align: right;\">\n",
       "      <th></th>\n",
       "      <th>time_train</th>\n",
       "      <th>time_predict</th>\n",
       "      <th>RMSE</th>\n",
       "    </tr>\n",
       "  </thead>\n",
       "  <tbody>\n",
       "    <tr>\n",
       "      <th>fin</th>\n",
       "      <td>0.35</td>\n",
       "      <td>0.00</td>\n",
       "      <td>34.47</td>\n",
       "    </tr>\n",
       "  </tbody>\n",
       "</table>\n",
       "</div>"
      ],
      "text/plain": [
       "     time_train  time_predict       RMSE\n",
       "fin        0.35          0.00      34.47"
      ]
     },
     "metadata": {},
     "output_type": "display_data"
    }
   ],
   "source": [
    "display(info_final_test)"
   ]
  },
  {
   "cell_type": "markdown",
   "metadata": {},
   "source": [
    "The RMSE indicator is lower than the maximum for the TK, which is good."
   ]
  },
  {
   "cell_type": "markdown",
   "metadata": {},
   "source": [
    "<a name=\"5.\"></a><br/>\n",
    "<font size=\"6\"><b>5. Checking the model for adequacy</b></font>.<br/>\n",
    "[<font size=\"2\">(to content)</font>](#1common.)"
   ]
  },
  {
   "cell_type": "markdown",
   "metadata": {},
   "source": [
    "To check for adequacy, we compare the indicator\n",
    "    * with median on the test set\n",
    "    * with \"past hour\""
   ]
  },
  {
   "cell_type": "code",
   "execution_count": 29,
   "metadata": {},
   "outputs": [
    {
     "name": "stdout",
     "output_type": "stream",
     "text": [
      "RMSE: 86.41465855206327\n"
     ]
    }
   ],
   "source": [
    "# All test sample values are predicted by the same number (constant). Let's take the median\n",
    "pred_median = np.ones(target_test.shape) * target_train.median()\n",
    "print(\"RMSE:\", mean_squared_error(target_test, pred_median)**0.5)"
   ]
  },
  {
   "cell_type": "code",
   "execution_count": 30,
   "metadata": {},
   "outputs": [
    {
     "name": "stdout",
     "output_type": "stream",
     "text": [
      "RMSE: 58.856486242815066\n"
     ]
    }
   ],
   "source": [
    "# The new value x(t) is predicted by the previous value of the series, i.e. x(t-1)\n",
    "pred_previous = target_test.shift()\n",
    "pred_previous.iloc[0] = target_train.iloc[-1]\n",
    "print(\"RMSE:\", mean_squared_error(target_test, pred_previous)**0.5)"
   ]
  },
  {
   "cell_type": "markdown",
   "metadata": {},
   "source": [
    "RMSE нашей модели значительно ниже."
   ]
  },
  {
   "cell_type": "code",
   "execution_count": 31,
   "metadata": {},
   "outputs": [
    {
     "data": {
      "text/plain": [
       "['model_taxi_timelines_LassoCV.joblib']"
      ]
     },
     "execution_count": 31,
     "metadata": {},
     "output_type": "execute_result"
    }
   ],
   "source": [
    "#### Export the model\n",
    "# save the model for further work outside the book\n",
    "joblib.dump(final_model, 'model_taxi_timelines_LassoCV.joblib')"
   ]
  },
  {
   "cell_type": "markdown",
   "metadata": {},
   "source": [
    "<a name=\"6.\"></a><br/>\n",
    "<font size=\"6\"><b>\n",
    "Сonclusions</b></font>.<br/>\n",
    "[<font size=\"2\">(to content)</font>](#1common.)\n",
    "\n",
    "**Based on historical data on taxi orders, a model was built to predict the number of taxi orders for the next hour.**\n",
    "     \n",
    "*When evaluating the model, it is necessary to minimize the **RMSE** evaluation criterion (on the test sample, its indicator should not exceed 48). Our test sample model has an RMSE measure of 34 orders*\n",
    "\n",
    "**Model built based on customer behavior data based on:**\n",
    "\n",
    "* ***As part of data preparation, we have converted time to ***\n",
    "    * year - year\n",
    "    * month - month\n",
    "    * day - day\n",
    "    * dayofweek - day of the week\n",
    "    * hour - hour\n",
    "    \n",
    "* ***And also, based on the data on orders in the past hours, variables were identified***\n",
    "    * lag_... - shift in the number of orders per hour in a week (total 24 * 7 variables)\n",
    "    * rolling_mean - moving average per day\n",
    "    \n",
    "    \n",
    "***Target feature***\n",
    "\n",
    "*num_orders — number of orders*\n",
    "\n",
    "\n",
    "**Model built with \"LassoCV\", with parameters:**\n",
    "\n",
    "* n_alphas = 5\n",
    "* random_state = 123\n",
    "\n",
    "\n",
    "**You can download the model named <font color='blue'> model_taxi_timelines_LassoCV.joblib\n",
    "</font>**"
   ]
  },
  {
   "cell_type": "code",
   "execution_count": null,
   "metadata": {},
   "outputs": [],
   "source": []
  }
 ],
 "metadata": {
  "kernelspec": {
   "display_name": "Python 3",
   "language": "python",
   "name": "python3"
  },
  "language_info": {
   "codemirror_mode": {
    "name": "ipython",
    "version": 3
   },
   "file_extension": ".py",
   "mimetype": "text/x-python",
   "name": "python",
   "nbconvert_exporter": "python",
   "pygments_lexer": "ipython3",
   "version": "3.7.6"
  },
  "toc": {
   "base_numbering": 1,
   "nav_menu": {},
   "number_sections": true,
   "sideBar": true,
   "skip_h1_title": false,
   "title_cell": "Table of Contents",
   "title_sidebar": "Contents",
   "toc_cell": false,
   "toc_position": {},
   "toc_section_display": true,
   "toc_window_display": false
  }
 },
 "nbformat": 4,
 "nbformat_minor": 2
}
